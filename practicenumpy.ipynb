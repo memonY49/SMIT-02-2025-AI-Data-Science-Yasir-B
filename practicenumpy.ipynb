{
 "cells": [
  {
   "cell_type": "code",
   "execution_count": 7,
   "id": "958ad74b-539d-42f1-ab20-39063c20ce84",
   "metadata": {},
   "outputs": [],
   "source": [
    "a = 6\n",
    "b = 1\n",
    "c = 8"
   ]
  },
  {
   "cell_type": "code",
   "execution_count": 9,
   "id": "463d1094-1f88-4d67-af62-973dcff4a918",
   "metadata": {},
   "outputs": [],
   "source": [
    "if a< b:\n",
    "    print(\"A is less than b\")\n",
    "elif b> c:\n",
    "    print(\"B is greater than c\")"
   ]
  },
  {
   "cell_type": "code",
   "execution_count": 6,
   "id": "cc1b24b4-b96b-4f0d-b84c-85cb6de630c5",
   "metadata": {},
   "outputs": [
    {
     "name": "stdout",
     "output_type": "stream",
     "text": [
      "8\n"
     ]
    }
   ],
   "source": [
    "print(c)"
   ]
  },
  {
   "cell_type": "code",
   "execution_count": 8,
   "id": "5cde3cae-a3ea-409a-bf31-625d7a53e135",
   "metadata": {},
   "outputs": [
    {
     "data": {
      "text/plain": [
       "1"
      ]
     },
     "execution_count": 8,
     "metadata": {},
     "output_type": "execute_result"
    }
   ],
   "source": [
    "b"
   ]
  },
  {
   "cell_type": "markdown",
   "id": "18fc7f77-1587-49ea-8534-b70aa69af406",
   "metadata": {},
   "source": [
    "# `*SMIT CLASS*`\n",
    "***\n",
    "***AI and datascience class***<br>\n",
    "<a href = 'https://www.youtube.com'>youtube.com</a><br>\n",
    "[aaaaa](https://www.google.com/)\n",
    "![alt text](image.jpg)\n",
    "<img src = ''>\n",
    "\n",
    "> SMIT\n",
    "\n",
    "\n",
    "1. AI\n",
    "2. DS\n",
    "3. DA\n",
    "\n",
    "- SMIT\n",
    "    - AIDS\n",
    "    - GD\n",
    "    - UIUX\n",
    "    - WAM"
   ]
  },
  {
   "cell_type": "code",
   "execution_count": 1,
   "id": "e70096fb-1498-4b48-8ee5-d9efcab11265",
   "metadata": {},
   "outputs": [],
   "source": [
    "import numpy as np"
   ]
  },
  {
   "cell_type": "code",
   "execution_count": 34,
   "id": "2bc5b68d-6d11-4b6e-9c5c-6d4dae25e0e3",
   "metadata": {},
   "outputs": [
    {
     "data": {
      "text/plain": [
       "array([1., 2., 3., 4., 5.])"
      ]
     },
     "execution_count": 34,
     "metadata": {},
     "output_type": "execute_result"
    },
    {
     "data": {
      "text/plain": [
       "\u001b[1;31mDocstring:\u001b[0m\n",
       "arange([start,] stop[, step,], dtype=None, *, device=None, like=None)\n",
       "\n",
       "Return evenly spaced values within a given interval.\n",
       "\n",
       "``arange`` can be called with a varying number of positional arguments:\n",
       "\n",
       "* ``arange(stop)``: Values are generated within the half-open interval\n",
       "  ``[0, stop)`` (in other words, the interval including `start` but\n",
       "  excluding `stop`).\n",
       "* ``arange(start, stop)``: Values are generated within the half-open\n",
       "  interval ``[start, stop)``.\n",
       "* ``arange(start, stop, step)`` Values are generated within the half-open\n",
       "  interval ``[start, stop)``, with spacing between values given by\n",
       "  ``step``.\n",
       "\n",
       "For integer arguments the function is roughly equivalent to the Python\n",
       "built-in :py:class:`range`, but returns an ndarray rather than a ``range``\n",
       "instance.\n",
       "\n",
       "When using a non-integer step, such as 0.1, it is often better to use\n",
       "`numpy.linspace`.\n",
       "\n",
       "See the Warning sections below for more information.\n",
       "\n",
       "Parameters\n",
       "----------\n",
       "start : integer or real, optional\n",
       "    Start of interval.  The interval includes this value.  The default\n",
       "    start value is 0.\n",
       "stop : integer or real\n",
       "    End of interval.  The interval does not include this value, except\n",
       "    in some cases where `step` is not an integer and floating point\n",
       "    round-off affects the length of `out`.\n",
       "step : integer or real, optional\n",
       "    Spacing between values.  For any output `out`, this is the distance\n",
       "    between two adjacent values, ``out[i+1] - out[i]``.  The default\n",
       "    step size is 1.  If `step` is specified as a position argument,\n",
       "    `start` must also be given.\n",
       "dtype : dtype, optional\n",
       "    The type of the output array.  If `dtype` is not given, infer the data\n",
       "    type from the other input arguments.\n",
       "device : str, optional\n",
       "    The device on which to place the created array. Default: ``None``.\n",
       "    For Array-API interoperability only, so must be ``\"cpu\"`` if passed.\n",
       "\n",
       "    .. versionadded:: 2.0.0\n",
       "like : array_like, optional\n",
       "    Reference object to allow the creation of arrays which are not\n",
       "    NumPy arrays. If an array-like passed in as ``like`` supports\n",
       "    the ``__array_function__`` protocol, the result will be defined\n",
       "    by it. In this case, it ensures the creation of an array object\n",
       "    compatible with that passed in via this argument.\n",
       "\n",
       "    .. versionadded:: 1.20.0\n",
       "\n",
       "Returns\n",
       "-------\n",
       "arange : ndarray\n",
       "    Array of evenly spaced values.\n",
       "\n",
       "    For floating point arguments, the length of the result is\n",
       "    ``ceil((stop - start)/step)``.  Because of floating point overflow,\n",
       "    this rule may result in the last element of `out` being greater\n",
       "    than `stop`.\n",
       "\n",
       "Warnings\n",
       "--------\n",
       "The length of the output might not be numerically stable.\n",
       "\n",
       "Another stability issue is due to the internal implementation of\n",
       "`numpy.arange`.\n",
       "The actual step value used to populate the array is\n",
       "``dtype(start + step) - dtype(start)`` and not `step`. Precision loss\n",
       "can occur here, due to casting or due to using floating points when\n",
       "`start` is much larger than `step`. This can lead to unexpected\n",
       "behaviour. For example::\n",
       "\n",
       "  >>> np.arange(0, 5, 0.5, dtype=int)\n",
       "  array([0, 0, 0, 0, 0, 0, 0, 0, 0, 0])\n",
       "  >>> np.arange(-3, 3, 0.5, dtype=int)\n",
       "  array([-3, -2, -1,  0,  1,  2,  3,  4,  5,  6,  7,  8])\n",
       "\n",
       "In such cases, the use of `numpy.linspace` should be preferred.\n",
       "\n",
       "The built-in :py:class:`range` generates :std:doc:`Python built-in integers\n",
       "that have arbitrary size <python:c-api/long>`, while `numpy.arange`\n",
       "produces `numpy.int32` or `numpy.int64` numbers. This may result in\n",
       "incorrect results for large integer values::\n",
       "\n",
       "  >>> power = 40\n",
       "  >>> modulo = 10000\n",
       "  >>> x1 = [(n ** power) % modulo for n in range(8)]\n",
       "  >>> x2 = [(n ** power) % modulo for n in np.arange(8)]\n",
       "  >>> print(x1)\n",
       "  [0, 1, 7776, 8801, 6176, 625, 6576, 4001]  # correct\n",
       "  >>> print(x2)\n",
       "  [0, 1, 7776, 7185, 0, 5969, 4816, 3361]  # incorrect\n",
       "\n",
       "See Also\n",
       "--------\n",
       "numpy.linspace : Evenly spaced numbers with careful handling of endpoints.\n",
       "numpy.ogrid: Arrays of evenly spaced numbers in N-dimensions.\n",
       "numpy.mgrid: Grid-shaped arrays of evenly spaced numbers in N-dimensions.\n",
       ":ref:`how-to-partition`\n",
       "\n",
       "Examples\n",
       "--------\n",
       ">>> import numpy as np\n",
       ">>> np.arange(3)\n",
       "array([0, 1, 2])\n",
       ">>> np.arange(3.0)\n",
       "array([ 0.,  1.,  2.])\n",
       ">>> np.arange(3,7)\n",
       "array([3, 4, 5, 6])\n",
       ">>> np.arange(3,7,2)\n",
       "array([3, 5])\n",
       "\u001b[1;31mType:\u001b[0m      builtin_function_or_method"
      ]
     },
     "metadata": {},
     "output_type": "display_data"
    }
   ],
   "source": [
    "# my_array = np.ndarray?\n",
    "my_array1 = np.arange?\n",
    "my_array1\n",
    "\n",
    "list_1 = [1, 2, 3, 4, 5]\n",
    "list_1 = np.array(list_1, dtype = np.float64)\n",
    "list_1"
   ]
  },
  {
   "cell_type": "code",
   "execution_count": 22,
   "id": "bf674e42-63b2-48c9-a82a-11c3fa40afca",
   "metadata": {},
   "outputs": [
    {
     "name": "stdout",
     "output_type": "stream",
     "text": [
      "b\n"
     ]
    }
   ],
   "source": [
    "my_multi_array = np.array([[1,3,4],['a','b','c'],[True,False,True]]) \n",
    "print(my_multi_array[1][1])"
   ]
  },
  {
   "cell_type": "code",
   "execution_count": 24,
   "id": "ef75e5aa-61b9-49f4-a2e3-a7d0b7cefd1e",
   "metadata": {},
   "outputs": [
    {
     "data": {
      "text/plain": [
       "array([0.        , 0.11111111, 0.22222222, 0.33333333, 0.44444444,\n",
       "       0.55555556, 0.66666667, 0.77777778, 0.88888889, 1.        ])"
      ]
     },
     "execution_count": 24,
     "metadata": {},
     "output_type": "execute_result"
    }
   ],
   "source": [
    "np.linspace(0,1,10)"
   ]
  },
  {
   "cell_type": "code",
   "execution_count": 29,
   "id": "1700460d-211d-4521-86c3-17c9e4a88674",
   "metadata": {},
   "outputs": [
    {
     "data": {
      "text/plain": [
       "array([[0., 0., 0.],\n",
       "       [0., 0., 0.],\n",
       "       [0., 0., 0.]])"
      ]
     },
     "execution_count": 29,
     "metadata": {},
     "output_type": "execute_result"
    }
   ],
   "source": [
    "np.zeros((3,3))"
   ]
  },
  {
   "cell_type": "code",
   "execution_count": 43,
   "id": "76f47ea6-aed9-40c1-a054-c07edf65488a",
   "metadata": {},
   "outputs": [
    {
     "data": {
      "text/plain": [
       "25"
      ]
     },
     "execution_count": 43,
     "metadata": {},
     "output_type": "execute_result"
    }
   ],
   "source": [
    "np.ones((5,5)).size"
   ]
  },
  {
   "cell_type": "code",
   "execution_count": 39,
   "id": "06f03a68-8cce-4f58-9cc6-179930ec09e8",
   "metadata": {},
   "outputs": [
    {
     "data": {
      "text/plain": [
       "array([ 1,  2,  3,  4,  5,  6,  7,  8,  9, 10, 11, 12, 13, 14, 15, 16, 17,\n",
       "       18, 19, 20, 21, 22, 23, 24, 25, 26, 27, 28, 29, 30, 31, 32, 33, 34,\n",
       "       35, 36, 37, 38, 39, 40, 41, 42, 43, 44, 45, 46, 47, 48, 49, 50, 51,\n",
       "       52, 53, 54, 55, 56, 57, 58, 59, 60, 61, 62, 63, 64, 65, 66, 67, 68,\n",
       "       69, 70, 71, 72, 73, 74, 75, 76, 77, 78, 79, 80, 81, 82, 83, 84, 85,\n",
       "       86, 87, 88, 89, 90, 91, 92, 93, 94, 95, 96, 97, 98, 99])"
      ]
     },
     "execution_count": 39,
     "metadata": {},
     "output_type": "execute_result"
    }
   ],
   "source": [
    "myarray = np.arange(1,100)\n",
    "myarray"
   ]
  },
  {
   "cell_type": "code",
   "execution_count": 40,
   "id": "92289160-1602-45f5-933a-247a7fa6814e",
   "metadata": {},
   "outputs": [
    {
     "data": {
      "text/plain": [
       "99"
      ]
     },
     "execution_count": 40,
     "metadata": {},
     "output_type": "execute_result"
    }
   ],
   "source": [
    "myarray.size"
   ]
  },
  {
   "cell_type": "code",
   "execution_count": 44,
   "id": "01dd13fb-0c60-459a-bd18-4be99bfe58af",
   "metadata": {},
   "outputs": [
    {
     "data": {
      "text/plain": [
       "dtype('int64')"
      ]
     },
     "execution_count": 44,
     "metadata": {},
     "output_type": "execute_result"
    }
   ],
   "source": [
    "myarray.dtype"
   ]
  },
  {
   "cell_type": "code",
   "execution_count": 51,
   "id": "b145eb48-1552-4f6b-b883-6f551d8c4b83",
   "metadata": {},
   "outputs": [
    {
     "data": {
      "text/plain": [
       "array([252, 591, 213, 161, 357, 505, 738, 533, 509, 784,  47, 971, 180,\n",
       "       797, 606, 506, 887, 916, 741, 286, 494, 799,  96, 832, 650, 769,\n",
       "       543, 351, 549, 111, 978, 140, 673, 747, 677, 628, 914, 838, 926,\n",
       "       923, 274, 140, 313, 510, 916, 251, 998, 626, 773, 421], dtype=int32)"
      ]
     },
     "execution_count": 51,
     "metadata": {},
     "output_type": "execute_result"
    }
   ],
   "source": [
    "np.random.randint(1,1000,size= 50)"
   ]
  },
  {
   "cell_type": "code",
   "execution_count": 58,
   "id": "dae96d9e-6d20-4167-a4b2-9644c3643706",
   "metadata": {},
   "outputs": [
    {
     "name": "stdout",
     "output_type": "stream",
     "text": [
      "['H' 'T' 'T' ... 'H' 'H' 'H']\n"
     ]
    }
   ],
   "source": [
    "print(np.random.choice(['H','T'], size = 10000))"
   ]
  },
  {
   "cell_type": "code",
   "execution_count": 61,
   "id": "4cd48a83-4c69-4697-bcd3-32529cad3fec",
   "metadata": {},
   "outputs": [
    {
     "name": "stdout",
     "output_type": "stream",
     "text": [
      "Row:  5\n",
      "column:  10\n"
     ]
    }
   ],
   "source": [
    "print(\"Row: \",np.ones((5,10)).shape[0])\n",
    "print(\"column: \",np.ones((5,10)).shape[1])"
   ]
  },
  {
   "cell_type": "code",
   "execution_count": 5,
   "id": "fb84d0f5-79c2-4086-82d7-5aa4ae8a47fa",
   "metadata": {},
   "outputs": [
    {
     "data": {
      "text/plain": [
       "array([[ 1,  4,  5],\n",
       "       [ 6, 10,  9],\n",
       "       [ 2,  8,  0]])"
      ]
     },
     "execution_count": 5,
     "metadata": {},
     "output_type": "execute_result"
    }
   ],
   "source": [
    "list = [[1,4,5],[6,10,9],[2,8,0]]\n",
    "myarr1 = np.array(list)\n",
    "myarr1"
   ]
  },
  {
   "cell_type": "code",
   "execution_count": 4,
   "id": "b2507096-9786-45e1-9fe4-e65d9e866616",
   "metadata": {},
   "outputs": [
    {
     "data": {
      "text/plain": [
       "(3, 3)"
      ]
     },
     "execution_count": 4,
     "metadata": {},
     "output_type": "execute_result"
    }
   ],
   "source": [
    "myarr1.shape"
   ]
  },
  {
   "cell_type": "code",
   "execution_count": 7,
   "id": "968783f5-f7be-445b-a8b4-b659b7dcb88e",
   "metadata": {},
   "outputs": [
    {
     "data": {
      "text/plain": [
       "np.int64(10)"
      ]
     },
     "execution_count": 7,
     "metadata": {},
     "output_type": "execute_result"
    }
   ],
   "source": [
    "myarr1[1][1]"
   ]
  },
  {
   "cell_type": "code",
   "execution_count": 17,
   "id": "ad11d9cb-4c67-41c9-b9ff-d24e9405d849",
   "metadata": {},
   "outputs": [
    {
     "data": {
      "text/plain": [
       "array([7, 8, 3, 6, 9])"
      ]
     },
     "execution_count": 17,
     "metadata": {},
     "output_type": "execute_result"
    }
   ],
   "source": [
    "np.array([1,4,6,7,8,3,6,9])[3:8]"
   ]
  },
  {
   "cell_type": "code",
   "execution_count": 16,
   "id": "4cbaea03-4d8f-4c88-a2b4-3c9285cac301",
   "metadata": {},
   "outputs": [
    {
     "data": {
      "text/plain": [
       "array([[ 4,  5],\n",
       "       [10,  9]])"
      ]
     },
     "execution_count": 16,
     "metadata": {},
     "output_type": "execute_result"
    }
   ],
   "source": [
    "myarr1[:2,1:]"
   ]
  },
  {
   "cell_type": "code",
   "execution_count": 24,
   "id": "5477371a-baa8-4f44-a1ea-3ad043de7e37",
   "metadata": {},
   "outputs": [
    {
     "data": {
      "text/plain": [
       "9"
      ]
     },
     "execution_count": 24,
     "metadata": {},
     "output_type": "execute_result"
    }
   ],
   "source": [
    "# myarr1[1,1] = 11\n",
    "# myarr1.itemset((1,1),11) removed from numpy 2.0\n",
    "\n",
    "myarr1.item(1,2)\n"
   ]
  },
  {
   "cell_type": "code",
   "execution_count": 27,
   "id": "2b760a23-c119-44b2-a8b2-0e85d044ba04",
   "metadata": {},
   "outputs": [
    {
     "data": {
      "text/plain": [
       "array([1, 4, 6, 7, 8, 3, 6, 9])"
      ]
     },
     "execution_count": 27,
     "metadata": {},
     "output_type": "execute_result"
    }
   ],
   "source": [
    "myarr2 = np.array([1,4,6,7,8,3,6,9])\n",
    "np.take(myarr2, [0,3, 5])\n",
    "# np.put(myarr2,[0,3, 5],[0,0,0])\n",
    "myarr2"
   ]
  },
  {
   "cell_type": "code",
   "execution_count": 33,
   "id": "a527de60-c4f8-4053-9472-e3fd6fda1688",
   "metadata": {},
   "outputs": [
    {
     "data": {
      "text/plain": [
       "array([1, 6, 8, 6])"
      ]
     },
     "execution_count": 33,
     "metadata": {},
     "output_type": "execute_result"
    }
   ],
   "source": [
    "myarr2[::2]"
   ]
  },
  {
   "cell_type": "code",
   "execution_count": 43,
   "id": "65f2e381-e39f-41a3-a9b0-15097e9e1a9a",
   "metadata": {},
   "outputs": [
    {
     "data": {
      "text/plain": [
       "array([[ 1,  4,  5],\n",
       "       [ 6, 11,  9],\n",
       "       [ 2,  8,  0]])"
      ]
     },
     "execution_count": 43,
     "metadata": {},
     "output_type": "execute_result"
    }
   ],
   "source": [
    "myarr2[(myarr2%2 == 0) & (myarr2 >5)]"
   ]
  },
  {
   "cell_type": "code",
   "execution_count": 72,
   "id": "fbce1b8a-3617-4dd1-bec8-682b972f518e",
   "metadata": {},
   "outputs": [],
   "source": [
    "gender_data1 = np.random.choice(['M','F'],size = 500)"
   ]
  },
  {
   "cell_type": "code",
   "execution_count": 46,
   "id": "f8808eb1-ff77-4eae-9627-9dc9f24371e9",
   "metadata": {},
   "outputs": [
    {
     "data": {
      "text/plain": [
       "array(['F', 'M'], dtype='<U1')"
      ]
     },
     "execution_count": 46,
     "metadata": {},
     "output_type": "execute_result"
    }
   ],
   "source": [
    "np.unique(gender_data)"
   ]
  },
  {
   "cell_type": "code",
   "execution_count": 64,
   "id": "a3076082-bf1e-457c-92a9-5899ef3617f3",
   "metadata": {},
   "outputs": [
    {
     "data": {
      "text/plain": [
       "array(['M', 'M', 'M', 'M', 'F', 'F', 'M', 'F', 'M', 'M', 'F', 'M', 'F',\n",
       "       'F', 'M', 'F', 'M', 'M', 'F', 'F', 'M', 'F', 'F', 'M', 'M', 'F',\n",
       "       'F', 'F', 'F', 'M', 'F', 'F', 'M', 'M', 'F', 'M', 'F', 'M', 'M',\n",
       "       'F', 'F', 'F', 'M', 'F', 'M', 'M', 'F', 'F', 'F', 'F', 'F', 'M',\n",
       "       'F', 'M', 'F', 'M', 'F', 'M', 'F', 'M', 'F', 'F', 'M', 'M', 'F',\n",
       "       'M', 'M', 'F', 'F', 'F', 'F', 'M', 'F', 'F', 'M', 'F', 'F', 'F',\n",
       "       'M', 'F', 'F', 'M', 'F', 'M', 'M', 'F', 'M', 'M', 'M', 'F', 'F',\n",
       "       'F', 'M', 'F', 'F', 'M', 'M', 'M', 'M', 'M', 'M', 'F', 'F', 'F',\n",
       "       'M', 'M', 'F', 'F', 'M', 'M', 'M', 'M', 'F', 'M', 'M', 'F', 'F',\n",
       "       'F', 'F', 'F', 'F', 'M', 'F', 'F', 'M', 'M', 'F', 'F', 'F', 'F',\n",
       "       'M', 'M', 'M', 'F', 'M', 'M', 'F', 'F', 'F', 'M', 'F', 'M', 'F',\n",
       "       'M', 'M', 'F', 'F', 'M', 'F', 'F', 'M', 'F', 'M', 'M', 'F', 'F',\n",
       "       'M', 'M', 'M', 'M', 'M', 'F', 'M', 'M', 'F', 'F', 'M', 'F', 'M',\n",
       "       'M', 'F', 'F', 'M', 'M', 'F', 'F', 'M', 'M', 'M', 'M', 'F', 'M',\n",
       "       'M', 'F', 'F', 'M', 'F', 'F', 'M', 'F', 'F', 'F', 'M', 'F', 'M',\n",
       "       'M', 'M', 'F', 'F', 'M', 'F', 'F', 'F', 'F', 'F', 'M', 'M', 'M',\n",
       "       'F', 'M', 'M', 'F', 'M', 'M', 'F', 'F', 'F', 'M', 'M', 'M', 'M',\n",
       "       'M', 'M', 'M', 'F', 'F', 'F', 'M', 'M', 'F', 'F', 'M', 'F', 'M',\n",
       "       'M', 'M', 'M', 'M', 'F', 'F', 'M', 'M', 'F', 'F', 'F', 'F', 'F',\n",
       "       'M', 'F', 'F', 'M', 'M', 'M', 'F', 'M', 'M', 'M', 'M', 'M', 'M',\n",
       "       'F', 'F', 'M', 'F', 'F', 'F', 'F', 'F', 'M', 'F', 'F', 'M', 'F',\n",
       "       'M', 'F', 'M', 'M', 'F', 'F', 'F', 'F', 'M', 'M', 'F', 'F', 'M',\n",
       "       'M', 'F', 'M', 'F', 'M', 'M', 'M', 'M', 'F', 'F', 'F', 'M', 'F',\n",
       "       'F', 'F', 'M', 'M', 'F', 'F', 'M', 'F', 'F', 'M', 'M', 'M', 'F',\n",
       "       'M', 'M', 'F', 'M', 'F', 'M', 'F', 'M', 'M', 'M', 'F', 'F', 'F',\n",
       "       'F', 'F', 'F', 'M', 'F', 'F', 'F', 'F', 'M', 'M', 'F', 'F', 'M',\n",
       "       'M', 'F', 'M', 'F', 'M', 'M', 'M', 'M', 'F', 'F', 'M', 'F', 'M',\n",
       "       'M', 'M', 'M', 'M', 'M', 'M', 'F', 'M', 'M', 'M', 'F', 'M', 'M',\n",
       "       'F', 'M', 'F', 'M', 'F', 'M', 'M', 'M', 'M', 'F', 'M', 'M', 'M',\n",
       "       'M', 'M', 'M', 'M', 'F', 'F', 'M', 'M', 'F', 'F', 'F', 'M', 'F',\n",
       "       'F', 'M', 'F', 'F', 'F', 'M', 'M', 'M', 'M', 'M', 'M', 'F', 'M',\n",
       "       'F', 'F', 'M', 'F', 'M', 'M', 'F', 'M', 'M', 'F', 'M', 'M', 'F',\n",
       "       'F', 'M', 'M', 'F', 'F', 'F', 'F', 'F', 'F', 'F', 'M', 'F', 'M',\n",
       "       'M', 'F', 'F', 'F', 'F', 'M', 'F', 'M', 'F', 'F', 'M', 'F', 'M',\n",
       "       'F', 'F', 'F', 'M', 'M', 'F', 'F', 'F', 'F', 'M', 'F', 'M', 'M',\n",
       "       'F', 'F', 'M', 'M', 'F', 'M', 'F', 'F', 'F', 'M', 'F', 'M', 'F',\n",
       "       'M', 'M', 'M', 'M', 'F', 'F', 'F', 'M', 'F', 'F', 'M', 'M', 'M',\n",
       "       'F', 'M', 'M', 'M', 'M', 'F', 'F', 'M', 'F', 'M', 'M', 'M', 'M',\n",
       "       'F', 'M', 'M', 'F', 'M', 'M'], dtype='<U1')"
      ]
     },
     "execution_count": 64,
     "metadata": {},
     "output_type": "execute_result"
    }
   ],
   "source": []
  },
  {
   "cell_type": "code",
   "execution_count": 73,
   "id": "896caccc-4d9d-417d-bc4e-d585099e7515",
   "metadata": {},
   "outputs": [
    {
     "name": "stdout",
     "output_type": "stream",
     "text": [
      "['M' 'F' 'M' 'M' 'F' 'M' 'M' 'M' 'M' 'F' 'M' 'M' 'M' 'M' 'M' 'M' 'M' 'M'\n",
      " 'F' 'M' 'F' 'M' 'F' 'M' 'M' 'M' 'M' 'F' 'M' 'M' 'F' 'M' 'F' 'F' 'M' 'F'\n",
      " 'M' 'F' 'F' 'F' 'M' 'F' 'F' 'F' 'M' 'F' 'F' 'M' 'F' 'M' 'F' 'M' 'M' 'F'\n",
      " 'F' 'M' 'M' 'F' 'M' 'M' 'M' 'M' 'M' 'F' 'F' 'F' 'M' 'M' 'F' 'F' 'F' 'F'\n",
      " 'M' 'M' 'M' 'F' 'M' 'M' 'F' 'F' 'M' 'M' 'F' 'F' 'F' 'F' 'M' 'F' 'F' 'M'\n",
      " 'M' 'M' 'F' 'M' 'F' 'M' 'M' 'M' 'M' 'F' 'M' 'M' 'M' 'F' 'M' 'M' 'M' 'F'\n",
      " 'F' 'M' 'F' 'F' 'F' 'F' 'F' 'F' 'F' 'M' 'F' 'M' 'M' 'F' 'F' 'F' 'M' 'M'\n",
      " 'M' 'M' 'F' 'F' 'M' 'M' 'M' 'M' 'F' 'F' 'F' 'M' 'M' 'M' 'M' 'M' 'M' 'M'\n",
      " 'M' 'M' 'M' 'M' 'M' 'F' 'F' 'F' 'M' 'M' 'M' 'M' 'F' 'M' 'F' 'F' 'M' 'M'\n",
      " 'M' 'M' 'M' 'M' 'F' 'F' 'F' 'F' 'F' 'F' 'F' 'M' 'M' 'M' 'M' 'M' 'F' 'F'\n",
      " 'F' 'M' 'F' 'M' 'F' 'F' 'M' 'M' 'F' 'M' 'M' 'M' 'F' 'F' 'M' 'M' 'M' 'M'\n",
      " 'F' 'F' 'M' 'M' 'F' 'M' 'F' 'F' 'M' 'M' 'M' 'M' 'F' 'F' 'F' 'F' 'F' 'M'\n",
      " 'F' 'F' 'F' 'F' 'M' 'M' 'M' 'M' 'M' 'M' 'F' 'M' 'F' 'M' 'F' 'F' 'M' 'M'\n",
      " 'F' 'M' 'F' 'F' 'F' 'M' 'F' 'M' 'F' 'F' 'M' 'F' 'M' 'F' 'M' 'M' 'M' 'M'\n",
      " 'F' 'M' 'F' 'F' 'M' 'F' 'F' 'M' 'F' 'F' 'M' 'M' 'M' 'F' 'M' 'M' 'M' 'M'\n",
      " 'M' 'F' 'M' 'F' 'M' 'F' 'M' 'F' 'M' 'F' 'M' 'F' 'F' 'F' 'F' 'M' 'F' 'F'\n",
      " 'M' 'F' 'F' 'M' 'F' 'F' 'M' 'F' 'M' 'F' 'F' 'M' 'M' 'M' 'M' 'M' 'F' 'M'\n",
      " 'M' 'F' 'F' 'F' 'M' 'M' 'M' 'M' 'M' 'F' 'M' 'M' 'M' 'M' 'F' 'F' 'M' 'M'\n",
      " 'M' 'M' 'F' 'F' 'M' 'M' 'M' 'F' 'F' 'F' 'M' 'M' 'F' 'F' 'M' 'M' 'M' 'M'\n",
      " 'F' 'M' 'F' 'F' 'F' 'F' 'M' 'F' 'M' 'F' 'M' 'F' 'F' 'F' 'F' 'M' 'F' 'F'\n",
      " 'M' 'M' 'F' 'F' 'F' 'M' 'F' 'F' 'F' 'M' 'M' 'M' 'M' 'M' 'F' 'F' 'F' 'M'\n",
      " 'F' 'M' 'M' 'M' 'M' 'M' 'M' 'M' 'M' 'M' 'M' 'F' 'M' 'M' 'F' 'F' 'F' 'F'\n",
      " 'M' 'F' 'F' 'M' 'F' 'F' 'F' 'F' 'F' 'F' 'F' 'F' 'F' 'M' 'M' 'F' 'F' 'M'\n",
      " 'F' 'M' 'M' 'F' 'F' 'F' 'F' 'M' 'F' 'F' 'M' 'F' 'F' 'F' 'M' 'M' 'F' 'M'\n",
      " 'F' 'M' 'M' 'M' 'F' 'F' 'M' 'F' 'F' 'M' 'M' 'M' 'F' 'M' 'M' 'M' 'F' 'M'\n",
      " 'M' 'F' 'F' 'M' 'M' 'M' 'F' 'F' 'F' 'M' 'F' 'F' 'M' 'F' 'M' 'F' 'F' 'F'\n",
      " 'F' 'F' 'F' 'F' 'F' 'M' 'M' 'F' 'F' 'M' 'M' 'F' 'M' 'F' 'F' 'F' 'M' 'F'\n",
      " 'M' 'M' 'F' 'M' 'F' 'M' 'M' 'M' 'M' 'F' 'F' 'F' 'F' 'M']\n"
     ]
    },
    {
     "data": {
      "text/plain": [
       "array([[['M', 'F', 'M', 'M', 'F', 'M', 'M', 'M', 'M', 'F'],\n",
       "        ['M', 'M', 'M', 'M', 'M', 'M', 'M', 'M', 'F', 'M'],\n",
       "        ['F', 'M', 'F', 'M', 'M', 'M', 'M', 'F', 'M', 'M'],\n",
       "        ['F', 'M', 'F', 'F', 'M', 'F', 'M', 'F', 'F', 'F'],\n",
       "        ['M', 'F', 'F', 'F', 'M', 'F', 'F', 'M', 'F', 'M'],\n",
       "        ['F', 'M', 'M', 'F', 'F', 'M', 'M', 'F', 'M', 'M'],\n",
       "        ['M', 'M', 'M', 'F', 'F', 'F', 'M', 'M', 'F', 'F'],\n",
       "        ['F', 'F', 'M', 'M', 'M', 'F', 'M', 'M', 'F', 'F'],\n",
       "        ['M', 'M', 'F', 'F', 'F', 'F', 'M', 'F', 'F', 'M'],\n",
       "        ['M', 'M', 'F', 'M', 'F', 'M', 'M', 'M', 'M', 'F']],\n",
       "\n",
       "       [['M', 'M', 'M', 'F', 'M', 'M', 'M', 'F', 'F', 'M'],\n",
       "        ['F', 'F', 'F', 'F', 'F', 'F', 'F', 'M', 'F', 'M'],\n",
       "        ['M', 'F', 'F', 'F', 'M', 'M', 'M', 'M', 'F', 'F'],\n",
       "        ['M', 'M', 'M', 'M', 'F', 'F', 'F', 'M', 'M', 'M'],\n",
       "        ['M', 'M', 'M', 'M', 'M', 'M', 'M', 'M', 'M', 'F'],\n",
       "        ['F', 'F', 'M', 'M', 'M', 'M', 'F', 'M', 'F', 'F'],\n",
       "        ['M', 'M', 'M', 'M', 'M', 'M', 'F', 'F', 'F', 'F'],\n",
       "        ['F', 'F', 'F', 'M', 'M', 'M', 'M', 'M', 'F', 'F'],\n",
       "        ['F', 'M', 'F', 'M', 'F', 'F', 'M', 'M', 'F', 'M'],\n",
       "        ['M', 'M', 'F', 'F', 'M', 'M', 'M', 'M', 'F', 'F']],\n",
       "\n",
       "       [['M', 'M', 'F', 'M', 'F', 'F', 'M', 'M', 'M', 'M'],\n",
       "        ['F', 'F', 'F', 'F', 'F', 'M', 'F', 'F', 'F', 'F'],\n",
       "        ['M', 'M', 'M', 'M', 'M', 'M', 'F', 'M', 'F', 'M'],\n",
       "        ['F', 'F', 'M', 'M', 'F', 'M', 'F', 'F', 'F', 'M'],\n",
       "        ['F', 'M', 'F', 'F', 'M', 'F', 'M', 'F', 'M', 'M'],\n",
       "        ['M', 'M', 'F', 'M', 'F', 'F', 'M', 'F', 'F', 'M'],\n",
       "        ['F', 'F', 'M', 'M', 'M', 'F', 'M', 'M', 'M', 'M'],\n",
       "        ['M', 'F', 'M', 'F', 'M', 'F', 'M', 'F', 'M', 'F'],\n",
       "        ['M', 'F', 'F', 'F', 'F', 'M', 'F', 'F', 'M', 'F'],\n",
       "        ['F', 'M', 'F', 'F', 'M', 'F', 'M', 'F', 'F', 'M']],\n",
       "\n",
       "       [['M', 'M', 'M', 'M', 'F', 'M', 'M', 'F', 'F', 'F'],\n",
       "        ['M', 'M', 'M', 'M', 'M', 'F', 'M', 'M', 'M', 'M'],\n",
       "        ['F', 'F', 'M', 'M', 'M', 'M', 'F', 'F', 'M', 'M'],\n",
       "        ['M', 'F', 'F', 'F', 'M', 'M', 'F', 'F', 'M', 'M'],\n",
       "        ['M', 'M', 'F', 'M', 'F', 'F', 'F', 'F', 'M', 'F'],\n",
       "        ['M', 'F', 'M', 'F', 'F', 'F', 'F', 'M', 'F', 'F'],\n",
       "        ['M', 'M', 'F', 'F', 'F', 'M', 'F', 'F', 'F', 'M'],\n",
       "        ['M', 'M', 'M', 'M', 'F', 'F', 'F', 'M', 'F', 'M'],\n",
       "        ['M', 'M', 'M', 'M', 'M', 'M', 'M', 'M', 'M', 'F'],\n",
       "        ['M', 'M', 'F', 'F', 'F', 'F', 'M', 'F', 'F', 'M']],\n",
       "\n",
       "       [['F', 'F', 'F', 'F', 'F', 'F', 'F', 'F', 'F', 'M'],\n",
       "        ['M', 'F', 'F', 'M', 'F', 'M', 'M', 'F', 'F', 'F'],\n",
       "        ['F', 'M', 'F', 'F', 'M', 'F', 'F', 'F', 'M', 'M'],\n",
       "        ['F', 'M', 'F', 'M', 'M', 'M', 'F', 'F', 'M', 'F'],\n",
       "        ['F', 'M', 'M', 'M', 'F', 'M', 'M', 'M', 'F', 'M'],\n",
       "        ['M', 'F', 'F', 'M', 'M', 'M', 'F', 'F', 'F', 'M'],\n",
       "        ['F', 'F', 'M', 'F', 'M', 'F', 'F', 'F', 'F', 'F'],\n",
       "        ['F', 'F', 'F', 'M', 'M', 'F', 'F', 'M', 'M', 'F'],\n",
       "        ['M', 'F', 'F', 'F', 'M', 'F', 'M', 'M', 'F', 'M'],\n",
       "        ['F', 'M', 'M', 'M', 'M', 'F', 'F', 'F', 'F', 'M']],\n",
       "\n",
       "       [['', '', '', '', '', '', '', '', '', ''],\n",
       "        ['', '', '', '', '', '', '', '', '', ''],\n",
       "        ['', '', '', '', '', '', '', '', '', ''],\n",
       "        ['', '', '', '', '', '', '', '', '', ''],\n",
       "        ['', '', '', '', '', '', '', '', '', ''],\n",
       "        ['', '', '', '', '', '', '', '', '', ''],\n",
       "        ['', '', '', '', '', '', '', '', '', ''],\n",
       "        ['', '', '', '', '', '', '', '', '', ''],\n",
       "        ['', '', '', '', '', '', '', '', '', ''],\n",
       "        ['', '', '', '', '', '', '', '', '', '']],\n",
       "\n",
       "       [['', '', '', '', '', '', '', '', '', ''],\n",
       "        ['', '', '', '', '', '', '', '', '', ''],\n",
       "        ['', '', '', '', '', '', '', '', '', ''],\n",
       "        ['', '', '', '', '', '', '', '', '', ''],\n",
       "        ['', '', '', '', '', '', '', '', '', ''],\n",
       "        ['', '', '', '', '', '', '', '', '', ''],\n",
       "        ['', '', '', '', '', '', '', '', '', ''],\n",
       "        ['', '', '', '', '', '', '', '', '', ''],\n",
       "        ['', '', '', '', '', '', '', '', '', ''],\n",
       "        ['', '', '', '', '', '', '', '', '', '']],\n",
       "\n",
       "       [['', '', '', '', '', '', '', '', '', ''],\n",
       "        ['', '', '', '', '', '', '', '', '', ''],\n",
       "        ['', '', '', '', '', '', '', '', '', ''],\n",
       "        ['', '', '', '', '', '', '', '', '', ''],\n",
       "        ['', '', '', '', '', '', '', '', '', ''],\n",
       "        ['', '', '', '', '', '', '', '', '', ''],\n",
       "        ['', '', '', '', '', '', '', '', '', ''],\n",
       "        ['', '', '', '', '', '', '', '', '', ''],\n",
       "        ['', '', '', '', '', '', '', '', '', ''],\n",
       "        ['', '', '', '', '', '', '', '', '', '']],\n",
       "\n",
       "       [['', '', '', '', '', '', '', '', '', ''],\n",
       "        ['', '', '', '', '', '', '', '', '', ''],\n",
       "        ['', '', '', '', '', '', '', '', '', ''],\n",
       "        ['', '', '', '', '', '', '', '', '', ''],\n",
       "        ['', '', '', '', '', '', '', '', '', ''],\n",
       "        ['', '', '', '', '', '', '', '', '', ''],\n",
       "        ['', '', '', '', '', '', '', '', '', ''],\n",
       "        ['', '', '', '', '', '', '', '', '', ''],\n",
       "        ['', '', '', '', '', '', '', '', '', ''],\n",
       "        ['', '', '', '', '', '', '', '', '', '']],\n",
       "\n",
       "       [['', '', '', '', '', '', '', '', '', ''],\n",
       "        ['', '', '', '', '', '', '', '', '', ''],\n",
       "        ['', '', '', '', '', '', '', '', '', ''],\n",
       "        ['', '', '', '', '', '', '', '', '', ''],\n",
       "        ['', '', '', '', '', '', '', '', '', ''],\n",
       "        ['', '', '', '', '', '', '', '', '', ''],\n",
       "        ['', '', '', '', '', '', '', '', '', ''],\n",
       "        ['', '', '', '', '', '', '', '', '', ''],\n",
       "        ['', '', '', '', '', '', '', '', '', ''],\n",
       "        ['', '', '', '', '', '', '', '', '', '']]], dtype='<U1')"
      ]
     },
     "execution_count": 73,
     "metadata": {},
     "output_type": "execute_result"
    }
   ],
   "source": [
    "# gender_data.reshape((10,10,5))\n",
    "print(gender_data1)\n",
    "gender_data1.resize((10,10,10))\n",
    "gender_data1"
   ]
  },
  {
   "cell_type": "code",
   "execution_count": 110,
   "id": "b02da947-8dd8-4211-9b38-78906e922b32",
   "metadata": {},
   "outputs": [],
   "source": [
    "myarr3 = np.random.randint(1,10, size = (3,3))"
   ]
  },
  {
   "cell_type": "code",
   "execution_count": 77,
   "id": "d958cab4-d137-4d4d-aa51-6133c6d9b648",
   "metadata": {},
   "outputs": [
    {
     "data": {
      "text/plain": [
       "array([[4, 8, 3],\n",
       "       [1, 4, 5],\n",
       "       [2, 1, 3]], dtype=int32)"
      ]
     },
     "execution_count": 77,
     "metadata": {},
     "output_type": "execute_result"
    }
   ],
   "source": [
    "myarr3"
   ]
  },
  {
   "cell_type": "code",
   "execution_count": 87,
   "id": "9ca45732-8501-4165-9c4e-27b43e65a61e",
   "metadata": {},
   "outputs": [
    {
     "data": {
      "text/plain": [
       "array([[4, 1, 2],\n",
       "       [8, 4, 1],\n",
       "       [3, 5, 3]], dtype=int32)"
      ]
     },
     "execution_count": 87,
     "metadata": {},
     "output_type": "execute_result"
    }
   ],
   "source": [
    "myarr3.transpose((1,0))"
   ]
  },
  {
   "cell_type": "code",
   "execution_count": 92,
   "id": "ae72b3ca-5293-468d-acc1-95f5902bf59c",
   "metadata": {},
   "outputs": [
    {
     "data": {
      "text/plain": [
       "array([[4, 1, 2],\n",
       "       [8, 4, 1],\n",
       "       [3, 5, 3]], dtype=int32)"
      ]
     },
     "execution_count": 92,
     "metadata": {},
     "output_type": "execute_result"
    }
   ],
   "source": [
    "myarr3.swapaxes(0,1)"
   ]
  },
  {
   "cell_type": "code",
   "execution_count": 99,
   "id": "b31f6207-c94f-449f-a9f0-f79d81720456",
   "metadata": {},
   "outputs": [
    {
     "data": {
      "text/plain": [
       "array([4, 8, 3, 1, 4, 5, 2, 1, 3], dtype=int32)"
      ]
     },
     "execution_count": 99,
     "metadata": {},
     "output_type": "execute_result"
    }
   ],
   "source": [
    "myarr3.flatten(order = 'C')\n"
   ]
  },
  {
   "cell_type": "code",
   "execution_count": 113,
   "id": "af9c2e9f-b403-498e-9e11-0e7a0ec6753b",
   "metadata": {},
   "outputs": [],
   "source": [
    "myarr3.sort(axis= 1)"
   ]
  },
  {
   "cell_type": "code",
   "execution_count": 114,
   "id": "26c7c248-e59b-4d32-8215-d324a0f18cc4",
   "metadata": {},
   "outputs": [
    {
     "data": {
      "text/plain": [
       "array([[2, 3, 5],\n",
       "       [5, 7, 9],\n",
       "       [9, 9, 9]], dtype=int32)"
      ]
     },
     "execution_count": 114,
     "metadata": {},
     "output_type": "execute_result"
    }
   ],
   "source": [
    "myarr3"
   ]
  },
  {
   "cell_type": "code",
   "execution_count": 129,
   "id": "4e38e5f5-6004-436e-ad26-87b438435318",
   "metadata": {},
   "outputs": [
    {
     "name": "stdout",
     "output_type": "stream",
     "text": [
      "[[1 2 3]\n",
      " [4 5 6]\n",
      " [7 8 9]]\n",
      "_____________\n",
      "\n",
      "[[11 12 13]\n",
      " [14 15 16]\n",
      " [17 18 19]]\n"
     ]
    },
    {
     "name": "stderr",
     "output_type": "stream",
     "text": [
      "C:\\Users\\memon\\AppData\\Local\\Temp\\ipykernel_29008\\3639057441.py:10: DeprecationWarning: `row_stack` alias is deprecated. Use `np.vstack` directly.\n",
      "  np.row_stack((my_new_aa_1,my_new_aa_2))\n"
     ]
    },
    {
     "data": {
      "text/plain": [
       "array([[ 1,  2,  3],\n",
       "       [ 4,  5,  6],\n",
       "       [ 7,  8,  9],\n",
       "       [11, 12, 13],\n",
       "       [14, 15, 16],\n",
       "       [17, 18, 19]])"
      ]
     },
     "execution_count": 129,
     "metadata": {},
     "output_type": "execute_result"
    }
   ],
   "source": [
    "my_new_aa_1 = np.arange(1,10).reshape((3,3))\n",
    "my_new_aa_2 = np.arange(11,20).reshape((3,3))\n",
    "print(my_new_aa_1)\n",
    "print(\"_____________\\n\")\n",
    "print(my_new_aa_2)\n",
    "\n",
    "np.vstack((my_new_aa_1,my_new_aa_2))\n",
    "\n",
    "np.hstack((my_new_aa_1,my_new_aa_2))\n",
    "np.row_stack((my_new_aa_1,my_new_aa_2))"
   ]
  },
  {
   "cell_type": "code",
   "execution_count": 157,
   "id": "0e3aafa5-9a42-455b-893b-5063e656f640",
   "metadata": {},
   "outputs": [
    {
     "name": "stdout",
     "output_type": "stream",
     "text": [
      "[[6 0 4 4 9 2 7 1 6 8 8 9 7 6 3 8 3 1 1 6]\n",
      " [3 5 0 9 9 5 5 8 5 8 5 1 7 1 7 0 6 4 7 9]]\n"
     ]
    },
    {
     "data": {
      "text/plain": [
       "[array([[6, 0, 4, 4],\n",
       "        [3, 5, 0, 9]], dtype=int32),\n",
       " array([[9, 2, 7, 1],\n",
       "        [9, 5, 5, 8]], dtype=int32),\n",
       " array([[6, 8, 8, 9],\n",
       "        [5, 8, 5, 1]], dtype=int32),\n",
       " array([[7, 6, 3, 8],\n",
       "        [7, 1, 7, 0]], dtype=int32),\n",
       " array([[3, 1, 1, 6],\n",
       "        [6, 4, 7, 9]], dtype=int32)]"
      ]
     },
     "execution_count": 157,
     "metadata": {},
     "output_type": "execute_result"
    }
   ],
   "source": [
    "ss_arr_5 = np.random.randint(10, size=(2, 20))\n",
    "print(ss_arr_5)\n",
    "np.hsplit(ss_arr_5, (4,8,12,16))"
   ]
  },
  {
   "cell_type": "code",
   "execution_count": 156,
   "id": "93857070-12c5-4236-b18c-f72cecfc1359",
   "metadata": {},
   "outputs": [
    {
     "name": "stdout",
     "output_type": "stream",
     "text": [
      "[[1 2]\n",
      " [8 6]\n",
      " [5 0]\n",
      " [7 8]\n",
      " [7 3]\n",
      " [9 3]\n",
      " [8 2]\n",
      " [7 7]\n",
      " [6 9]\n",
      " [4 7]]\n"
     ]
    },
    {
     "data": {
      "text/plain": [
       "[array([[1, 2],\n",
       "        [8, 6]], dtype=int32),\n",
       " array([[5, 0],\n",
       "        [7, 8]], dtype=int32),\n",
       " array([[7, 3],\n",
       "        [9, 3]], dtype=int32),\n",
       " array([[8, 2],\n",
       "        [7, 7]], dtype=int32),\n",
       " array([[6, 9],\n",
       "        [4, 7]], dtype=int32)]"
      ]
     },
     "execution_count": 156,
     "metadata": {},
     "output_type": "execute_result"
    }
   ],
   "source": [
    "ss_arr_6 = np.random.randint(10, size=(10, 2))\n",
    "print(ss_arr_6)\n",
    "np.vsplit(ss_arr_6, (2,4,6,8))"
   ]
  },
  {
   "cell_type": "markdown",
   "id": "f2b8c62f-a322-4df6-9817-0b252b1cad4b",
   "metadata": {},
   "source": [
    "# Copying"
   ]
  },
  {
   "cell_type": "code",
   "execution_count": 24,
   "id": "0d9169e4-7294-4d9a-bb90-640ca57454e6",
   "metadata": {},
   "outputs": [
    {
     "data": {
      "text/plain": [
       "array([[43,  7, 90],\n",
       "       [46, 82, 28],\n",
       "       [42, 56, 19]], dtype=int32)"
      ]
     },
     "execution_count": 24,
     "metadata": {},
     "output_type": "execute_result"
    }
   ],
   "source": [
    "my_arr2 = np.random.randint(100,size = (3,3))\n",
    "my_arr2"
   ]
  },
  {
   "cell_type": "code",
   "execution_count": 25,
   "id": "deb8703f-5388-419d-9bc4-afe16f083cee",
   "metadata": {},
   "outputs": [
    {
     "name": "stdout",
     "output_type": "stream",
     "text": [
      "[[ 7 43 90]\n",
      " [28 46 82]\n",
      " [19 42 56]]\n",
      "[[43  7 90]\n",
      " [46 82 28]\n",
      " [42 56 19]]\n"
     ]
    }
   ],
   "source": [
    "# copy_my_arr2 = my_arr2\n",
    "\n",
    "# copy_my_arr2.sort()\n",
    "# print(copy_my_arr2)\n",
    "# print(my_arr2)\n",
    "view_my_arr2 = my_arr2.view()\n",
    "copy_my_arr2 = my_arr2.copy()\n",
    "copy_my_arr2.sort()\n",
    "\n",
    "\n",
    "# view_my_arr2.sort()\n",
    "# print(view_my_arr2)\n",
    "print(copy_my_arr2)\n",
    "print(my_arr2)\n",
    "# view_my_arr2"
   ]
  },
  {
   "cell_type": "markdown",
   "id": "32c17356-7bda-4454-aa51-2a03b081532b",
   "metadata": {},
   "source": [
    "# Math"
   ]
  },
  {
   "cell_type": "code",
   "execution_count": 68,
   "id": "b72b2ec2-4f19-47ef-8e75-31081ee3f1f5",
   "metadata": {},
   "outputs": [
    {
     "name": "stdout",
     "output_type": "stream",
     "text": [
      "[[3 7 6]\n",
      " [6 9 6]\n",
      " [8 6 7]]\n",
      "3\n",
      "9\n",
      "4\n",
      "[[3 7 6]\n",
      " [6 9 6]\n",
      " [8 6 7]]\n"
     ]
    },
    {
     "data": {
      "text/plain": [
       "array([[ 9, 49, 36],\n",
       "       [36, 81, 36],\n",
       "       [64, 36, 49]])"
      ]
     },
     "execution_count": 68,
     "metadata": {},
     "output_type": "execute_result"
    }
   ],
   "source": [
    "list1 = np.array([[1,5,3],[7,8,0],[3,3,5]])\n",
    "list2 = np.array([[3,7,6],[6,9,6],[8,6,7]])\n",
    "print(list2)\n",
    "list3 = list1 + list2\n",
    "list3\n",
    "list3 = list1 - list2\n",
    "list3\n",
    "list3 = list1 * list2\n",
    "list3\n",
    "list3 = list1 / list2\n",
    "list3\n",
    "list3 = list1 % list2\n",
    "list3\n",
    "list1.sum()\n",
    "# print(list2.sum())\n",
    "# print(list2.cumsum())\n",
    "print(list2.min())\n",
    "print(list2.max())\n",
    "print(list2.argmax())\n",
    "\n",
    "\n",
    "np.add(list1, list2)\n",
    "my_arr2_square = np.power(list2,2)\n",
    "print(np.sqrt(my_arr2_square).astype(int))\n",
    "np.absolute(np.arange(-10,-1))\n",
    "np.gcd.reduce([9, 12, 15])\n",
    "np.lcm.reduce([9, 12, 15])\n",
    "# Round down\n",
    "np.floor([1.2, 2.7])\n",
    "# Round up\n",
    "np.ceil([1.2, 2.5])\n",
    "list2**2"
   ]
  },
  {
   "cell_type": "code",
   "execution_count": 81,
   "id": "b21ee211-745a-47f0-afc4-4ed4eb98d8a6",
   "metadata": {},
   "outputs": [
    {
     "name": "stdout",
     "output_type": "stream",
     "text": [
      "[[3 7 6]\n",
      " [6 9 6]\n",
      " [8 6 7]]\n",
      "[1 1 0]\n"
     ]
    },
    {
     "data": {
      "text/plain": [
       "array([[7, 7, 3],\n",
       "       [9, 9, 6],\n",
       "       [6, 6, 8]])"
      ]
     },
     "execution_count": 81,
     "metadata": {},
     "output_type": "execute_result"
    }
   ],
   "source": [
    "print(list2)\n",
    "argmaxlist2 = list2.argmax(axis = 1)\n",
    "print(argmaxlist2)\n",
    "list2[:,argmaxlist2]"
   ]
  },
  {
   "cell_type": "code",
   "execution_count": 107,
   "id": "da64fb37-e467-4c80-a66e-87c7912a7dd4",
   "metadata": {},
   "outputs": [
    {
     "name": "stdout",
     "output_type": "stream",
     "text": [
      "[0 1 1 0 2]\n",
      "[3 2 4 2 4]\n",
      "Math: max marks: 50\n",
      "Scince: max marks: 70\n",
      "English: max marks: 80\n",
      "Urdu: max marks: 80\n",
      "Sindhi: max marks: 90\n",
      "Student no: 1\n",
      "Max Marks: 80 in subject: Urdu\n",
      "__________________\n",
      "Student no: 2\n",
      "Max Marks: 80 in subject: English\n",
      "__________________\n",
      "Student no: 3\n",
      "Max Marks: 90 in subject: Sindhi\n",
      "__________________\n",
      "Student no: 4\n",
      "Max Marks: 80 in subject: English\n",
      "__________________\n",
      "Student no: 5\n",
      "Max Marks: 80 in subject: Sindhi\n",
      "__________________\n"
     ]
    }
   ],
   "source": [
    "studentdata = [[\"Math\",\"Scince\",\"English\",\"Urdu\",\"Sindhi\"],\n",
    "               [50,60,70,80,40],\n",
    "               [30,70,80,40,60],\n",
    "               [20,40,60,80,90],\n",
    "               [30,60,80,50,40],\n",
    "               [40,40,30,60,80]]\n",
    "subjects = studentdata.pop(0)\n",
    "studentdata = np.array(studentdata)\n",
    "max_subject = studentdata.argmax(axis = 0)\n",
    "print(max_subject)\n",
    "max_student = studentdata.argmax(axis = 1)\n",
    "print(max_student)\n",
    "\n",
    "for i in range(0, len(subjects)):\n",
    "    maxVal = max_subject[i]\n",
    "    print(f\"{subjects[i]}: max marks: {studentdata[maxVal,i]}\")\n",
    "for loc, student in enumerate(studentdata):\n",
    "    maxVal = max_student[loc]\n",
    "    print(f\"Student no: {loc+1}\\nMax Marks: {studentdata[loc, maxVal]} in subject: {subjects[maxVal]}\")\n",
    "    print(\"__________________\")\n",
    "    \n",
    "    "
   ]
  },
  {
   "cell_type": "code",
   "execution_count": 108,
   "id": "a61372ff-6490-4d9f-bc44-3716a3d1a599",
   "metadata": {},
   "outputs": [],
   "source": [
    "Student_data = {\"st-1\":{\"Maths\":85,\"Urdu\":70,\"Sindhi\":40,\"Chemistry\":90,\"Physics\":60},\n",
    "               \"st-2\":{\"Maths\":70,\"Urdu\":75,\"Sindhi\":40,\"Chemistry\":90,\"Physics\":60},\n",
    "               \"st-3\":{\"Maths\":80,\"Urdu\":70,\"Sindhi\":95,\"Chemistry\":90,\"Physics\":60},\n",
    "               \"st-4\":{\"Maths\":80,\"Urdu\":70,\"Sindhi\":50,\"Chemistry\":85,\"Physics\":60},\n",
    "               \"st-5\":{\"Maths\":80,\"Urdu\":75,\"Sindhi\":40,\"Chemistry\":90,\"Physics\":60}}"
   ]
  },
  {
   "cell_type": "code",
   "execution_count": 122,
   "id": "83bc373a-f6a5-4514-9e71-31a2120f569f",
   "metadata": {},
   "outputs": [
    {
     "data": {
      "text/plain": [
       "array([3, 2, 1, 0, 4])"
      ]
     },
     "execution_count": 122,
     "metadata": {},
     "output_type": "execute_result"
    }
   ],
   "source": [
    "data = [50,60,70,80,40]\n",
    "data = np.array(data)\n",
    "data.argsort()[::-1]\n"
   ]
  },
  {
   "cell_type": "code",
   "execution_count": null,
   "id": "47c5a2f8-36c1-4cfe-bbc5-1f9f4d2f4465",
   "metadata": {},
   "outputs": [],
   "source": []
  }
 ],
 "metadata": {
  "kernelspec": {
   "display_name": "Python 3 (ipykernel)",
   "language": "python",
   "name": "python3"
  },
  "language_info": {
   "codemirror_mode": {
    "name": "ipython",
    "version": 3
   },
   "file_extension": ".py",
   "mimetype": "text/x-python",
   "name": "python",
   "nbconvert_exporter": "python",
   "pygments_lexer": "ipython3",
   "version": "3.11.3"
  }
 },
 "nbformat": 4,
 "nbformat_minor": 5
}
