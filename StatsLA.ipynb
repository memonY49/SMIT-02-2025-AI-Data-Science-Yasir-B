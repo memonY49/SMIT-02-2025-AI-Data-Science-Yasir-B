{
 "cells": [
  {
   "cell_type": "markdown",
   "id": "7ddd876f-7bbe-4b4b-8336-899561cbb54e",
   "metadata": {},
   "source": [
    "# Finding Outliers Using central tandancy\n",
    "## 1. Mean\n",
    "\n",
    "## 2. Median\n",
    "\n",
    "## 3. Mode\n"
   ]
  },
  {
   "cell_type": "code",
   "execution_count": null,
   "id": "ec5b3f26-73f5-4f15-bb19-6b02d9ad7356",
   "metadata": {},
   "outputs": [],
   "source": []
  },
  {
   "cell_type": "code",
   "execution_count": null,
   "id": "544b7de4-0e5b-4d08-bec7-31171aad30d5",
   "metadata": {},
   "outputs": [],
   "source": []
  },
  {
   "cell_type": "code",
   "execution_count": null,
   "id": "63ad313a-f27a-431f-a32c-63f5a41a80bf",
   "metadata": {},
   "outputs": [],
   "source": []
  },
  {
   "cell_type": "code",
   "execution_count": null,
   "id": "98994e97-da1c-4502-92ce-d66b144c2d67",
   "metadata": {},
   "outputs": [],
   "source": []
  },
  {
   "cell_type": "markdown",
   "id": "6535981d-621d-4246-ad67-19a890361fea",
   "metadata": {},
   "source": [
    "# Linear Algabra\n",
    "### To use linear algabra in numpy import \n",
    "### from numpy import linalg as LA\n",
    "## 1. Dot Product\n",
    "## 2. Multi Dot\n",
    "## 3. Inverse Matrix\n",
    "## 4. Determinant\n",
    "## 5. Inner product\n",
    "## 6. Matrix Power\n"
   ]
  },
  {
   "cell_type": "code",
   "execution_count": 20,
   "id": "4a2bc9e4-bcc2-48c5-a53c-8ed51cc5a158",
   "metadata": {},
   "outputs": [
    {
     "name": "stdout",
     "output_type": "stream",
     "text": [
      "my_arr1:\n",
      "[[1 2]\n",
      " [3 4]]\n",
      "my_arr2:\n",
      "[[2 4]\n",
      " [6 9]]\n",
      "[[14 22]\n",
      " [30 48]]\n"
     ]
    },
    {
     "data": {
      "text/plain": [
       "array([[ 1,  4],\n",
       "       [ 9, 16]])"
      ]
     },
     "execution_count": 20,
     "metadata": {},
     "output_type": "execute_result"
    }
   ],
   "source": [
    "import numpy as np\n",
    "my_arr1 = np.array ([[1,2],[3,4]])\n",
    "my_arr2 = np.array([[2,4],[6,9]])\n",
    "print(f\"my_arr1:\\n{my_arr1}\")\n",
    "print(f\"my_arr2:\\n{my_arr2}\")\n",
    "\n",
    "print(np.linalg.multi_dot([my_arr1,my_arr2]))\n",
    "# [1,2][2,6] = arr1[0][:]arr2[:][0]\n",
    "# (1x2)+(2x6) = 14\n",
    "# [1,2][4,9] = arr1[0][:]arr2[:][1]\n",
    "# (1x4)+(2x9) = 22\n",
    "# [3,4][2,6] = arr1[1][:]arr2[:][0]\n",
    "# (3x2)+(4x6) = 30\n",
    "# [3,4][4,9] = arr1[1][:]arr2[:][1]\n",
    "# (3x4)+(4x9) = 48\n",
    "\n",
    "np.linalg.multi_dot([my_arr1,my_arr2,[1,2]])\n",
    "# my_arr1.my_arr2\n",
    "# [[14, 22],\n",
    "#  [30, 48]]\n",
    "# [14,22][1,2] = (14x1)+(22x2) = 58\n",
    "# [30,48][1,2] = (30x1)+(48x2) = 126\n",
    "\n",
    "\n",
    "np.linalg.det(my_arr1)\n",
    "\n",
    "np.linalg.inv(my_arr2)\n",
    "\n",
    "np.inner(my_arr1, my_arr2)\n",
    "# [1,2][2,4] \n",
    "# (1 x 2) + (2 x 4) = 10 [0,0]\n",
    "# [1,2][6,9]\n",
    "# (1 x 6) + (2 x 9) = 24 [0,1]\n",
    "# [3,4][2,4]\n",
    "# (3 x 2) + (4 x 4) = 22 [1,0]\n",
    "# [3,4][6,9]\n",
    "# (3 x 6) + (4 x 9) = 54 [1,1]\n",
    "\n",
    "np.pow(my_arr1, 2)"
   ]
  },
  {
   "cell_type": "markdown",
   "id": "6ddccc4a-7721-4a52-91d6-f9fc91b53e80",
   "metadata": {},
   "source": [
    "## Airthmatic Mean\n",
    "## Geometric Mean"
   ]
  },
  {
   "cell_type": "code",
   "execution_count": null,
   "id": "abbf3873-2e2f-4240-8340-c8c276ce7218",
   "metadata": {},
   "outputs": [],
   "source": [
    "mylist = [2,4,8,16,32,64,128,256]"
   ]
  },
  {
   "cell_type": "markdown",
   "id": "387ca9f1-b3d0-4ef0-843b-11ac979edffc",
   "metadata": {},
   "source": [
    "in my business the initial investment was 2500$, for last 5 years i have a profit of [25%,30%,-10%,100%,-20%] i need know how much money i have in my account and is my company profitable or not"
   ]
  },
  {
   "cell_type": "code",
   "execution_count": 67,
   "id": "a09abeac-1706-4d60-8ad3-292204884015",
   "metadata": {},
   "outputs": [
    {
     "name": "stdout",
     "output_type": "stream",
     "text": [
      "5850.0\n"
     ]
    }
   ],
   "source": [
    "profit = np.array([0.25,0.30,-0.10,1,-0.20])\n",
    "profit_dol = profit*2500\n",
    "total_amount = 2500\n",
    "for profit_p_year in profit:\n",
    "    total_amount += total_amount * profit_p_year\n",
    "print(total_amount)"
   ]
  },
  {
   "cell_type": "code",
   "execution_count": 48,
   "id": "2f0d2004-6200-4cbf-bd5a-293b55eb9166",
   "metadata": {},
   "outputs": [
    {
     "name": "stdout",
     "output_type": "stream",
     "text": [
      "5850.0\n"
     ]
    }
   ],
   "source": [
    "year1 = 2500+ 2500*0.25\n",
    "year2 = year1+ year1*0.30\n",
    "year3 = year2+ year2*-0.10\n",
    "year4 = year3+ year3*1\n",
    "year5 = year4+ year4*-0.20\n",
    "print(year5)"
   ]
  },
  {
   "cell_type": "code",
   "execution_count": 40,
   "id": "93687fe2-78b0-4ec6-bd03-ab5a479911de",
   "metadata": {},
   "outputs": [
    {
     "data": {
      "text/plain": [
       "np.float64(33.0)"
      ]
     },
     "execution_count": 40,
     "metadata": {},
     "output_type": "execute_result"
    }
   ],
   "source": [
    "profit.sum()/len(profit)"
   ]
  },
  {
   "cell_type": "code",
   "execution_count": 49,
   "id": "9c8e2a7f-047c-4adf-861b-ab7dc6a14e29",
   "metadata": {},
   "outputs": [
    {
     "data": {
      "text/plain": [
       "np.float64(0.2724069927426661)"
      ]
     },
     "execution_count": 49,
     "metadata": {},
     "output_type": "execute_result"
    }
   ],
   "source": [
    "np.pow(profit.prod(),1/len(profit))"
   ]
  },
  {
   "cell_type": "code",
   "execution_count": 51,
   "id": "baffe4fc-7236-403e-9a3c-a560559affd9",
   "metadata": {},
   "outputs": [
    {
     "data": {
      "text/plain": [
       "5905.0"
      ]
     },
     "execution_count": 51,
     "metadata": {},
     "output_type": "execute_result"
    }
   ],
   "source": [
    "(2500+(2500*0.2724)*5)"
   ]
  },
  {
   "cell_type": "code",
   "execution_count": 47,
   "id": "82fae8ec-d00a-4448-9370-d1d0363eecad",
   "metadata": {},
   "outputs": [
    {
     "data": {
      "text/plain": [
       "5625.0"
      ]
     },
     "execution_count": 47,
     "metadata": {},
     "output_type": "execute_result"
    }
   ],
   "source": [
    "2500+(2500*0.25)*5"
   ]
  },
  {
   "cell_type": "code",
   "execution_count": 66,
   "id": "765d89a6-5e15-46dd-bf0a-0aa397426938",
   "metadata": {},
   "outputs": [
    {
     "name": "stdout",
     "output_type": "stream",
     "text": [
      "[0.9 1.2 1.8 0.7 0.6 0.8 1.3 1.6 0.9 1.2]\n",
      "1.4673125376\n"
     ]
    },
    {
     "data": {
      "text/plain": [
       "np.float64(3668.281344)"
      ]
     },
     "execution_count": 66,
     "metadata": {},
     "output_type": "execute_result"
    }
   ],
   "source": [
    "profit\n",
    "factor = profit + 1\n",
    "print(factor)\n",
    "product_of_factor = factor.prod()\n",
    "print(product_of_factor)\n",
    "amount = 2500*product_of_factor\n",
    "amount\n"
   ]
  },
  {
   "cell_type": "markdown",
   "id": "8fd0c377-831f-4680-9814-096ca3d31c53",
   "metadata": {},
   "source": [
    "## 9000 is initial investment and the rcord of last ten years is [-10%,20%,80%,-30%,-40%,-20%,30%,60%,-10%,20%] and find average profit or loss per year"
   ]
  },
  {
   "cell_type": "code",
   "execution_count": 84,
   "id": "912c9067-8e41-4193-88a8-0f1cf79cac3e",
   "metadata": {},
   "outputs": [
    {
     "name": "stdout",
     "output_type": "stream",
     "text": [
      "0.1\n",
      "Total amount: 13205.812838400001\n",
      "Amean:  0.10\n",
      "Gmean: 0.039087840845481114\n"
     ]
    }
   ],
   "source": [
    "initial = 9000\n",
    "profit = np.array([-10,20,80,-30,-40,-20,30,60,-10,20])\n",
    "profit = profit/100\n",
    "print(1/len(profit))\n",
    "factors = profit + 1\n",
    "gmean = np.pow(factor.prod(), 1/len(factors))-1\n",
    "total_amount = initial*factor.prod()\n",
    "print(f\"Total amount: {total_amount}\")\n",
    "print(f\"Amean: {profit.mean(): .2f}\")\n",
    "print(f\"Gmean: {gmean}\")"
   ]
  },
  {
   "cell_type": "code",
   "execution_count": 70,
   "id": "6db3258a-448d-4bad-949b-1ad743a0d765",
   "metadata": {},
   "outputs": [
    {
     "name": "stdout",
     "output_type": "stream",
     "text": [
      "Total amount: 13205.812838400001\n"
     ]
    }
   ],
   "source": [
    "factors = profit + 1\n",
    "total_amount = initial*factor.prod()\n",
    "print(f\"Total amount: {total_amount}\")\n"
   ]
  },
  {
   "cell_type": "code",
   "execution_count": 88,
   "id": "129c3163-35fc-4e09-b30b-e8619c347e4d",
   "metadata": {},
   "outputs": [
    {
     "data": {
      "text/plain": [
       "18000.0"
      ]
     },
     "execution_count": 88,
     "metadata": {},
     "output_type": "execute_result"
    }
   ],
   "source": [
    "(initial+(9000*0.1)*10)"
   ]
  },
  {
   "cell_type": "code",
   "execution_count": 1,
   "id": "b2d3c007-830d-44e6-8856-dd4615754ca0",
   "metadata": {},
   "outputs": [],
   "source": [
    "import numpy as np\n",
    "from numpy import genfromtxt"
   ]
  },
  {
   "cell_type": "code",
   "execution_count": 15,
   "id": "fe511670-cbd5-4aeb-9a25-b95cf467c150",
   "metadata": {},
   "outputs": [],
   "source": [
    "dataset = genfromtxt('calories.csv',delimiter=',',dtype='str')"
   ]
  },
  {
   "cell_type": "code",
   "execution_count": 16,
   "id": "52e596bf-a17c-40b5-bcc0-8a6e5e45f1db",
   "metadata": {},
   "outputs": [],
   "source": [
    "columns = dataset[0]"
   ]
  },
  {
   "cell_type": "code",
   "execution_count": 17,
   "id": "02ad52fe-2639-4943-80f0-1f90d1d478d6",
   "metadata": {},
   "outputs": [],
   "source": [
    "dataset = np.delete(dataset,0,axis = 0)"
   ]
  },
  {
   "cell_type": "code",
   "execution_count": 18,
   "id": "2e97ff2e-84d2-4a9f-8a2e-5da3cfbece02",
   "metadata": {},
   "outputs": [
    {
     "data": {
      "text/plain": [
       "array(['', '', '', '', '', ''], dtype='<U8')"
      ]
     },
     "execution_count": 18,
     "metadata": {},
     "output_type": "execute_result"
    }
   ],
   "source": [
    "dataset[dataset == '']"
   ]
  },
  {
   "cell_type": "code",
   "execution_count": 20,
   "id": "d425b509-bbae-4d08-9967-1b718923475b",
   "metadata": {},
   "outputs": [
    {
     "data": {
      "text/plain": [
       "array([  7,  17,  27,  91, 118, 141])"
      ]
     },
     "execution_count": 20,
     "metadata": {},
     "output_type": "execute_result"
    }
   ],
   "source": [
    "null_values = np.where(dataset=='')"
   ]
  },
  {
   "cell_type": "code",
   "execution_count": 21,
   "id": "69f4e3b5-9a0e-4702-867a-4d862ef08aaa",
   "metadata": {},
   "outputs": [],
   "source": [
    "dataset = np.where(dataset == '', '0',dataset)"
   ]
  },
  {
   "cell_type": "code",
   "execution_count": 25,
   "id": "c6368af7-8b46-43a7-937f-ff0f1378882c",
   "metadata": {},
   "outputs": [],
   "source": [
    "dataset = dataset.astype('float64')"
   ]
  },
  {
   "cell_type": "code",
   "execution_count": 33,
   "id": "225a0e65-0fbd-4430-a22c-3f877c4559ac",
   "metadata": {},
   "outputs": [
    {
     "name": "stdout",
     "output_type": "stream",
     "text": [
      "Mean average of Duration63.57988165680474\n"
     ]
    }
   ],
   "source": [
    "print(f\"Mean average of Duration: {np.mean(dataset[:,0])}\")"
   ]
  },
  {
   "cell_type": "code",
   "execution_count": 30,
   "id": "aadbc12d-48d0-4321-843e-4d115ff573df",
   "metadata": {},
   "outputs": [
    {
     "data": {
      "text/plain": [
       "array([ 60.,  60.,  60.,  45.,  45.,  60.,  60.,   0.,  30.,  60.,  60.,\n",
       "        60.,  60.,  60.,  60.,  60.,  60.,  45.,  60.,  45.,  60.,  45.,\n",
       "        60.,  45.,  60.,  60.,  60.,  60.,  60.,  60.,  60.,  45.,  60.,\n",
       "        60.,  60.,  60.,  60.,  60.,  60.,  45.,  45.,  60.,  60.,  60.,\n",
       "        60.,  60.,  60.,  45.,  45.,  60.,  60.,  80.,  60.,  60.,  30.,\n",
       "        60.,  60.,  45.,  20.,  45., 210., 160., 160.,  45.,  20., 180.,\n",
       "       150., 150.,  20., 300., 150.,  60.,  90., 150.,  45.,  90.,  45.,\n",
       "        45., 120., 270.,  30.,  45.,  30., 120.,  45.,  30.,  45., 120.,\n",
       "        45.,  20., 180.,  45.,  30.,  15.,  20.,  20.,  30.,  25.,  30.,\n",
       "        90.,  20.,  90.,  90.,  90.,  30.,  30., 180.,  30.,  90., 210.,\n",
       "        60.,  45.,  15.,  45.,  60.,  60.,  60.,  60.,  60.,  60.,  30.,\n",
       "        45.,  60.,  60.,  60.,  60.,  60.,  60.,  90.,  60.,  60.,  60.,\n",
       "        60.,  60.,  60.,  20.,  45.,  45.,  45.,  20.,  60.,  60.,  45.,\n",
       "        45.,  60.,  45.,  60.,  60.,  30.,  60.,  60.,  60.,  60.,  30.,\n",
       "        60.,  60.,  60.,  60.,  60.,  30.,  30.,  45.,  45.,  45.,  60.,\n",
       "        60.,  60.,  75.,  75.])"
      ]
     },
     "execution_count": 30,
     "metadata": {},
     "output_type": "execute_result"
    }
   ],
   "source": [
    "dataset[:,0]"
   ]
  },
  {
   "cell_type": "code",
   "execution_count": 34,
   "id": "e782db8a-b715-412f-aa0f-ad0717c0a62e",
   "metadata": {},
   "outputs": [],
   "source": [
    "investment_data = genfromtxt('InvestmentDataset.csv', delimiter=',',dtype='str')"
   ]
  },
  {
   "cell_type": "code",
   "execution_count": 35,
   "id": "f12707a1-ee8d-4c4a-801b-939a997ff735",
   "metadata": {},
   "outputs": [
    {
     "data": {
      "text/plain": [
       "array([['Year', 'Profit Percentage', 'Additional Investment',\n",
       "        'Total Amount'],\n",
       "       ['1', '25%', '0', '6250.00'],\n",
       "       ['2', '-30%', '0', '4375.00'],\n",
       "       ['3', '22%', '0', '5337.50'],\n",
       "       ['4', '28%', '0', '6832.00'],\n",
       "       ['5', '25%', '2000', '10840.00'],\n",
       "       ['6', '5%', '0', '11382.00'],\n",
       "       ['7', '-25%', '0', '8536.50'],\n",
       "       ['8', '30%', '0', '11097.45'],\n",
       "       ['9', '-22%', '0', '8656.01'],\n",
       "       ['10', '28%', '0', '11079.69']], dtype='<U21')"
      ]
     },
     "execution_count": 35,
     "metadata": {},
     "output_type": "execute_result"
    }
   ],
   "source": [
    "investment_data"
   ]
  },
  {
   "cell_type": "code",
   "execution_count": 36,
   "id": "ae7cab3c-fc5a-4ec3-b63a-5c44bdf0adfb",
   "metadata": {},
   "outputs": [],
   "source": [
    "columns = investment_data[0]\n",
    "investment_data = np.delete(investment_data,0,axis = 0)"
   ]
  },
  {
   "cell_type": "code",
   "execution_count": 71,
   "id": "c75cdd75-22ff-4c9e-a454-bed707db8a8e",
   "metadata": {},
   "outputs": [
    {
     "name": "stdout",
     "output_type": "stream",
     "text": [
      "[ 25. -30.  22.  28.  25.   5. -25.  30. -22.  28.]\n",
      "AMean: 0.08600000000000001\n",
      "GMean: 0.05730098145198537\n"
     ]
    },
    {
     "data": {
      "text/plain": [
       "np.float64(11284.11648)"
      ]
     },
     "execution_count": 71,
     "metadata": {},
     "output_type": "execute_result"
    }
   ],
   "source": [
    "investment_data\n",
    "profits = np.array([pro.replace('%','') for pro in investment_data[:,1]]).astype('float')\n",
    "print(np.char.replace(investment_data[:,1],'%','').astype('float'))\n",
    "initial_investment = 5000\n",
    "aditional_investment = investment_data[:,2].astype('float')\n",
    "profits = profits / 100\n",
    "\n",
    "# factor = profit/100 + 1\n",
    "\n",
    "factor = (profits)+1\n",
    "\n",
    "print(f\"AMean: {np.mean(profits)}\")\n",
    "print(f\"GMean: {np.pow(factor.prod(), 1/len(factor))-1}\")\n",
    "\n",
    "total_amount = initial_investment\n",
    "for a_invest,profit_y in zip(aditional_investment,profits):\n",
    "    \n",
    "    total_amount += a_invest\n",
    "    \n",
    "    total_amount *= profit_y+1\n",
    "    \n",
    "\n",
    "total_amount\n",
    "\n",
    "\n"
   ]
  },
  {
   "cell_type": "code",
   "execution_count": null,
   "id": "b2acb71d-338e-4188-bfa1-816c0b648b49",
   "metadata": {},
   "outputs": [],
   "source": []
  }
 ],
 "metadata": {
  "kernelspec": {
   "display_name": "Python 3 (ipykernel)",
   "language": "python",
   "name": "python3"
  },
  "language_info": {
   "codemirror_mode": {
    "name": "ipython",
    "version": 3
   },
   "file_extension": ".py",
   "mimetype": "text/x-python",
   "name": "python",
   "nbconvert_exporter": "python",
   "pygments_lexer": "ipython3",
   "version": "3.11.3"
  }
 },
 "nbformat": 4,
 "nbformat_minor": 5
}
