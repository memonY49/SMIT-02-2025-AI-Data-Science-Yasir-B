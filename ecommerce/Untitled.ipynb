{
 "cells": [
  {
   "cell_type": "code",
   "execution_count": 1,
   "id": "1bb96c38-2eed-4035-9917-4991afd05dfb",
   "metadata": {},
   "outputs": [],
   "source": [
    "import pandas as pd"
   ]
  },
  {
   "cell_type": "code",
   "execution_count": 5,
   "id": "feecfa39-0778-493f-9008-e02f8ee12ab5",
   "metadata": {},
   "outputs": [],
   "source": [
    "orders = pd.read_csv('orders.csv', na_values=['Fail','abcent',\"\"])\n",
    "products = pd.read_csv('products.csv')\n",
    "customers = pd.read_csv('customers.csv')"
   ]
  },
  {
   "cell_type": "code",
   "execution_count": 6,
   "id": "95ab249a-04cc-4f46-ae3c-44de392715ee",
   "metadata": {},
   "outputs": [
    {
     "data": {
      "text/html": [
       "<div>\n",
       "<style scoped>\n",
       "    .dataframe tbody tr th:only-of-type {\n",
       "        vertical-align: middle;\n",
       "    }\n",
       "\n",
       "    .dataframe tbody tr th {\n",
       "        vertical-align: top;\n",
       "    }\n",
       "\n",
       "    .dataframe thead th {\n",
       "        text-align: right;\n",
       "    }\n",
       "</style>\n",
       "<table border=\"1\" class=\"dataframe\">\n",
       "  <thead>\n",
       "    <tr style=\"text-align: right;\">\n",
       "      <th></th>\n",
       "      <th>order_id</th>\n",
       "      <th>customer_id</th>\n",
       "      <th>product_id</th>\n",
       "      <th>quantity</th>\n",
       "      <th>order_date</th>\n",
       "    </tr>\n",
       "  </thead>\n",
       "  <tbody>\n",
       "    <tr>\n",
       "      <th>0</th>\n",
       "      <td>O00001</td>\n",
       "      <td>C0333</td>\n",
       "      <td>P022</td>\n",
       "      <td>1</td>\n",
       "      <td>2022-01-09</td>\n",
       "    </tr>\n",
       "    <tr>\n",
       "      <th>1</th>\n",
       "      <td>O00002</td>\n",
       "      <td>C0068</td>\n",
       "      <td>P090</td>\n",
       "      <td>1</td>\n",
       "      <td>2022-01-27</td>\n",
       "    </tr>\n",
       "    <tr>\n",
       "      <th>2</th>\n",
       "      <td>O00003</td>\n",
       "      <td>C0483</td>\n",
       "      <td>P021</td>\n",
       "      <td>1</td>\n",
       "      <td>2022-01-17</td>\n",
       "    </tr>\n",
       "    <tr>\n",
       "      <th>3</th>\n",
       "      <td>O00004</td>\n",
       "      <td>C0214</td>\n",
       "      <td>P076</td>\n",
       "      <td>4</td>\n",
       "      <td>2022-01-07</td>\n",
       "    </tr>\n",
       "    <tr>\n",
       "      <th>4</th>\n",
       "      <td>O00005</td>\n",
       "      <td>C0411</td>\n",
       "      <td>P073</td>\n",
       "      <td>4</td>\n",
       "      <td>2022-01-12</td>\n",
       "    </tr>\n",
       "  </tbody>\n",
       "</table>\n",
       "</div>"
      ],
      "text/plain": [
       "  order_id customer_id product_id  quantity  order_date\n",
       "0   O00001       C0333       P022         1  2022-01-09\n",
       "1   O00002       C0068       P090         1  2022-01-27\n",
       "2   O00003       C0483       P021         1  2022-01-17\n",
       "3   O00004       C0214       P076         4  2022-01-07\n",
       "4   O00005       C0411       P073         4  2022-01-12"
      ]
     },
     "execution_count": 6,
     "metadata": {},
     "output_type": "execute_result"
    }
   ],
   "source": [
    "orders.head()"
   ]
  },
  {
   "cell_type": "code",
   "execution_count": 8,
   "id": "085675de-d25f-4cb0-87b4-1f5074e1b862",
   "metadata": {},
   "outputs": [
    {
     "name": "stdout",
     "output_type": "stream",
     "text": [
      "<class 'pandas.core.frame.DataFrame'>\n",
      "RangeIndex: 2584 entries, 0 to 2583\n",
      "Data columns (total 5 columns):\n",
      " #   Column       Non-Null Count  Dtype \n",
      "---  ------       --------------  ----- \n",
      " 0   order_id     2584 non-null   object\n",
      " 1   customer_id  2584 non-null   object\n",
      " 2   product_id   2584 non-null   object\n",
      " 3   quantity     2584 non-null   int64 \n",
      " 4   order_date   2584 non-null   object\n",
      "dtypes: int64(1), object(4)\n",
      "memory usage: 101.1+ KB\n"
     ]
    }
   ],
   "source": [
    "orders.info()"
   ]
  },
  {
   "cell_type": "code",
   "execution_count": 11,
   "id": "1ee6af1d-040c-4b08-8733-34034fd5513c",
   "metadata": {},
   "outputs": [],
   "source": [
    "orders.order_date = pd.to_datetime(orders.order_date)"
   ]
  },
  {
   "cell_type": "code",
   "execution_count": 29,
   "id": "5cf5e422-bd8b-431c-aea9-6323fdce25f0",
   "metadata": {},
   "outputs": [
    {
     "data": {
      "text/plain": [
       "product_id\n",
       "P059    17\n",
       "P090    15\n",
       "P041    15\n",
       "P099    15\n",
       "P022    14\n",
       "        ..\n",
       "P032     4\n",
       "P054     3\n",
       "P023     3\n",
       "P040     3\n",
       "P005     3\n",
       "Name: count, Length: 100, dtype: int64"
      ]
     },
     "execution_count": 29,
     "metadata": {},
     "output_type": "execute_result"
    }
   ],
   "source": [
    "# filtter your data\n",
    "top_products = orders[orders['order_date'].dt.year == 2022]['product_id'].value_counts()\n",
    "top_products"
   ]
  },
  {
   "cell_type": "code",
   "execution_count": 34,
   "id": "b245636d-8240-47cd-8113-026208608c23",
   "metadata": {},
   "outputs": [
    {
     "data": {
      "text/plain": [
       "58    Network\n",
       "Name: product_name, dtype: object"
      ]
     },
     "execution_count": 34,
     "metadata": {},
     "output_type": "execute_result"
    }
   ],
   "source": [
    "products[products['product_id']==top_products.index[0]]['product_name']"
   ]
  },
  {
   "cell_type": "code",
   "execution_count": 38,
   "id": "f79b7eb8-2856-4289-b641-bf4da4c9437d",
   "metadata": {},
   "outputs": [],
   "source": [
    "merged_orders = orders.merge(products[['product_id','price']], on = 'product_id', how ='left')"
   ]
  },
  {
   "cell_type": "code",
   "execution_count": 39,
   "id": "2325d1c4-27ea-48c0-8d2d-74376d0896f0",
   "metadata": {},
   "outputs": [],
   "source": [
    "merged_orders['total_price'] = merged_orders.quantity * merged_orders.price"
   ]
  },
  {
   "cell_type": "code",
   "execution_count": 40,
   "id": "2d7c35cd-3f18-4d0c-adee-fbddc8113b4e",
   "metadata": {},
   "outputs": [
    {
     "data": {
      "text/html": [
       "<div>\n",
       "<style scoped>\n",
       "    .dataframe tbody tr th:only-of-type {\n",
       "        vertical-align: middle;\n",
       "    }\n",
       "\n",
       "    .dataframe tbody tr th {\n",
       "        vertical-align: top;\n",
       "    }\n",
       "\n",
       "    .dataframe thead th {\n",
       "        text-align: right;\n",
       "    }\n",
       "</style>\n",
       "<table border=\"1\" class=\"dataframe\">\n",
       "  <thead>\n",
       "    <tr style=\"text-align: right;\">\n",
       "      <th></th>\n",
       "      <th>order_id</th>\n",
       "      <th>customer_id</th>\n",
       "      <th>product_id</th>\n",
       "      <th>quantity</th>\n",
       "      <th>order_date</th>\n",
       "      <th>price</th>\n",
       "      <th>total_price</th>\n",
       "    </tr>\n",
       "  </thead>\n",
       "  <tbody>\n",
       "    <tr>\n",
       "      <th>0</th>\n",
       "      <td>O00001</td>\n",
       "      <td>C0333</td>\n",
       "      <td>P022</td>\n",
       "      <td>1</td>\n",
       "      <td>2022-01-09</td>\n",
       "      <td>185.33</td>\n",
       "      <td>185.33</td>\n",
       "    </tr>\n",
       "    <tr>\n",
       "      <th>1</th>\n",
       "      <td>O00002</td>\n",
       "      <td>C0068</td>\n",
       "      <td>P090</td>\n",
       "      <td>1</td>\n",
       "      <td>2022-01-27</td>\n",
       "      <td>947.55</td>\n",
       "      <td>947.55</td>\n",
       "    </tr>\n",
       "    <tr>\n",
       "      <th>2</th>\n",
       "      <td>O00003</td>\n",
       "      <td>C0483</td>\n",
       "      <td>P021</td>\n",
       "      <td>1</td>\n",
       "      <td>2022-01-17</td>\n",
       "      <td>938.65</td>\n",
       "      <td>938.65</td>\n",
       "    </tr>\n",
       "    <tr>\n",
       "      <th>3</th>\n",
       "      <td>O00004</td>\n",
       "      <td>C0214</td>\n",
       "      <td>P076</td>\n",
       "      <td>4</td>\n",
       "      <td>2022-01-07</td>\n",
       "      <td>154.17</td>\n",
       "      <td>616.68</td>\n",
       "    </tr>\n",
       "    <tr>\n",
       "      <th>4</th>\n",
       "      <td>O00005</td>\n",
       "      <td>C0411</td>\n",
       "      <td>P073</td>\n",
       "      <td>4</td>\n",
       "      <td>2022-01-12</td>\n",
       "      <td>131.85</td>\n",
       "      <td>527.40</td>\n",
       "    </tr>\n",
       "    <tr>\n",
       "      <th>...</th>\n",
       "      <td>...</td>\n",
       "      <td>...</td>\n",
       "      <td>...</td>\n",
       "      <td>...</td>\n",
       "      <td>...</td>\n",
       "      <td>...</td>\n",
       "      <td>...</td>\n",
       "    </tr>\n",
       "    <tr>\n",
       "      <th>2579</th>\n",
       "      <td>O02580</td>\n",
       "      <td>C0237</td>\n",
       "      <td>P098</td>\n",
       "      <td>5</td>\n",
       "      <td>2024-12-22</td>\n",
       "      <td>567.31</td>\n",
       "      <td>2836.55</td>\n",
       "    </tr>\n",
       "    <tr>\n",
       "      <th>2580</th>\n",
       "      <td>O02581</td>\n",
       "      <td>C0236</td>\n",
       "      <td>P007</td>\n",
       "      <td>1</td>\n",
       "      <td>2024-12-05</td>\n",
       "      <td>325.74</td>\n",
       "      <td>325.74</td>\n",
       "    </tr>\n",
       "    <tr>\n",
       "      <th>2581</th>\n",
       "      <td>O02582</td>\n",
       "      <td>C0029</td>\n",
       "      <td>P035</td>\n",
       "      <td>1</td>\n",
       "      <td>2024-12-12</td>\n",
       "      <td>362.04</td>\n",
       "      <td>362.04</td>\n",
       "    </tr>\n",
       "    <tr>\n",
       "      <th>2582</th>\n",
       "      <td>O02583</td>\n",
       "      <td>C0171</td>\n",
       "      <td>P077</td>\n",
       "      <td>1</td>\n",
       "      <td>2024-12-16</td>\n",
       "      <td>233.11</td>\n",
       "      <td>233.11</td>\n",
       "    </tr>\n",
       "    <tr>\n",
       "      <th>2583</th>\n",
       "      <td>O02584</td>\n",
       "      <td>C0421</td>\n",
       "      <td>P038</td>\n",
       "      <td>5</td>\n",
       "      <td>2024-12-01</td>\n",
       "      <td>817.52</td>\n",
       "      <td>4087.60</td>\n",
       "    </tr>\n",
       "  </tbody>\n",
       "</table>\n",
       "<p>2584 rows × 7 columns</p>\n",
       "</div>"
      ],
      "text/plain": [
       "     order_id customer_id product_id  quantity order_date   price  total_price\n",
       "0      O00001       C0333       P022         1 2022-01-09  185.33       185.33\n",
       "1      O00002       C0068       P090         1 2022-01-27  947.55       947.55\n",
       "2      O00003       C0483       P021         1 2022-01-17  938.65       938.65\n",
       "3      O00004       C0214       P076         4 2022-01-07  154.17       616.68\n",
       "4      O00005       C0411       P073         4 2022-01-12  131.85       527.40\n",
       "...       ...         ...        ...       ...        ...     ...          ...\n",
       "2579   O02580       C0237       P098         5 2024-12-22  567.31      2836.55\n",
       "2580   O02581       C0236       P007         1 2024-12-05  325.74       325.74\n",
       "2581   O02582       C0029       P035         1 2024-12-12  362.04       362.04\n",
       "2582   O02583       C0171       P077         1 2024-12-16  233.11       233.11\n",
       "2583   O02584       C0421       P038         5 2024-12-01  817.52      4087.60\n",
       "\n",
       "[2584 rows x 7 columns]"
      ]
     },
     "execution_count": 40,
     "metadata": {},
     "output_type": "execute_result"
    }
   ],
   "source": [
    "merged_orders"
   ]
  },
  {
   "cell_type": "code",
   "execution_count": null,
   "id": "76a15a75-42ee-4d74-972a-3fe6f2c22c0a",
   "metadata": {},
   "outputs": [],
   "source": []
  }
 ],
 "metadata": {
  "kernelspec": {
   "display_name": "Python 3 (ipykernel)",
   "language": "python",
   "name": "python3"
  },
  "language_info": {
   "codemirror_mode": {
    "name": "ipython",
    "version": 3
   },
   "file_extension": ".py",
   "mimetype": "text/x-python",
   "name": "python",
   "nbconvert_exporter": "python",
   "pygments_lexer": "ipython3",
   "version": "3.11.3"
  }
 },
 "nbformat": 4,
 "nbformat_minor": 5
}
