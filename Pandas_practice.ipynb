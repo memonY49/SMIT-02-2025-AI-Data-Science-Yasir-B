{
 "cells": [
  {
   "cell_type": "code",
   "execution_count": 2,
   "id": "1bcc7a26-b711-46d2-a3fc-7b28aa635bf0",
   "metadata": {},
   "outputs": [],
   "source": [
    "import pandas as pd\n",
    "import numpy as np"
   ]
  },
  {
   "cell_type": "code",
   "execution_count": 3,
   "id": "7e52da7e-e108-45f9-9738-3533236e91cb",
   "metadata": {},
   "outputs": [],
   "source": [
    "data = [{\"Name\":'Yasir',\"Scince\":40,\"Math\":50,\"Urdu\":60,\"English\":70,\"Sindhi\":90},\n",
    "        {\"Name\":'Ahmed',\"Scince\":59,\"Math\":90,\"Urdu\":None,\"English\":80,\"Sindhi\":91},\n",
    "        {\"Name\":'Ali',\"Scince\":40,\"Math\":50,\"Urdu\":60,\"English\":70,\"Sindhi\":90}]\n",
    "df = pd.DataFrame(data,index=['std-1','std-2','std-3'])"
   ]
  },
  {
   "cell_type": "code",
   "execution_count": 4,
   "id": "e80b2457-b44f-4428-b4be-b9b9417dbd9e",
   "metadata": {},
   "outputs": [
    {
     "data": {
      "text/html": [
       "<div>\n",
       "<style scoped>\n",
       "    .dataframe tbody tr th:only-of-type {\n",
       "        vertical-align: middle;\n",
       "    }\n",
       "\n",
       "    .dataframe tbody tr th {\n",
       "        vertical-align: top;\n",
       "    }\n",
       "\n",
       "    .dataframe thead th {\n",
       "        text-align: right;\n",
       "    }\n",
       "</style>\n",
       "<table border=\"1\" class=\"dataframe\">\n",
       "  <thead>\n",
       "    <tr style=\"text-align: right;\">\n",
       "      <th></th>\n",
       "      <th>Name</th>\n",
       "      <th>Scince</th>\n",
       "      <th>Math</th>\n",
       "      <th>Urdu</th>\n",
       "      <th>English</th>\n",
       "      <th>Sindhi</th>\n",
       "    </tr>\n",
       "  </thead>\n",
       "  <tbody>\n",
       "    <tr>\n",
       "      <th>std-1</th>\n",
       "      <td>Yasir</td>\n",
       "      <td>40</td>\n",
       "      <td>50</td>\n",
       "      <td>60.0</td>\n",
       "      <td>70</td>\n",
       "      <td>90</td>\n",
       "    </tr>\n",
       "    <tr>\n",
       "      <th>std-2</th>\n",
       "      <td>Ahmed</td>\n",
       "      <td>59</td>\n",
       "      <td>90</td>\n",
       "      <td>NaN</td>\n",
       "      <td>80</td>\n",
       "      <td>91</td>\n",
       "    </tr>\n",
       "    <tr>\n",
       "      <th>std-3</th>\n",
       "      <td>Ali</td>\n",
       "      <td>40</td>\n",
       "      <td>50</td>\n",
       "      <td>60.0</td>\n",
       "      <td>70</td>\n",
       "      <td>90</td>\n",
       "    </tr>\n",
       "  </tbody>\n",
       "</table>\n",
       "</div>"
      ],
      "text/plain": [
       "        Name  Scince  Math  Urdu  English  Sindhi\n",
       "std-1  Yasir      40    50  60.0       70      90\n",
       "std-2  Ahmed      59    90   NaN       80      91\n",
       "std-3    Ali      40    50  60.0       70      90"
      ]
     },
     "execution_count": 4,
     "metadata": {},
     "output_type": "execute_result"
    }
   ],
   "source": [
    "df"
   ]
  },
  {
   "cell_type": "code",
   "execution_count": 5,
   "id": "1d6dd125-9bc7-4892-b26c-8e3c8c184932",
   "metadata": {},
   "outputs": [],
   "source": [
    "pd_series = pd.Series([2,4,5,7,8,0],index=['a','b','c','d','e','f'])"
   ]
  },
  {
   "cell_type": "code",
   "execution_count": 6,
   "id": "95e56ee7-b09d-4e73-b347-a288ae68e197",
   "metadata": {},
   "outputs": [
    {
     "data": {
      "text/plain": [
       "np.int64(8)"
      ]
     },
     "execution_count": 6,
     "metadata": {},
     "output_type": "execute_result"
    }
   ],
   "source": [
    "pd_series.pop('e')"
   ]
  },
  {
   "cell_type": "code",
   "execution_count": 7,
   "id": "6755670f-f198-452e-96ec-eebb49b4b474",
   "metadata": {},
   "outputs": [
    {
     "data": {
      "text/plain": [
       "a    2\n",
       "b    4\n",
       "c    5\n",
       "d    7\n",
       "f    0\n",
       "dtype: int64"
      ]
     },
     "execution_count": 7,
     "metadata": {},
     "output_type": "execute_result"
    }
   ],
   "source": [
    "pd_series"
   ]
  },
  {
   "cell_type": "code",
   "execution_count": 8,
   "id": "411d0613-0bd9-4c9a-9b31-639f1d901a59",
   "metadata": {},
   "outputs": [],
   "source": [
    "df.drop('Math',axis=1, inplace=True)"
   ]
  },
  {
   "cell_type": "code",
   "execution_count": 9,
   "id": "d9ba1f2f-9c32-40d8-8613-a866b170079f",
   "metadata": {},
   "outputs": [
    {
     "data": {
      "text/html": [
       "<div>\n",
       "<style scoped>\n",
       "    .dataframe tbody tr th:only-of-type {\n",
       "        vertical-align: middle;\n",
       "    }\n",
       "\n",
       "    .dataframe tbody tr th {\n",
       "        vertical-align: top;\n",
       "    }\n",
       "\n",
       "    .dataframe thead th {\n",
       "        text-align: right;\n",
       "    }\n",
       "</style>\n",
       "<table border=\"1\" class=\"dataframe\">\n",
       "  <thead>\n",
       "    <tr style=\"text-align: right;\">\n",
       "      <th></th>\n",
       "      <th>Name</th>\n",
       "      <th>Scince</th>\n",
       "      <th>Urdu</th>\n",
       "      <th>English</th>\n",
       "      <th>Sindhi</th>\n",
       "    </tr>\n",
       "  </thead>\n",
       "  <tbody>\n",
       "    <tr>\n",
       "      <th>std-2</th>\n",
       "      <td>Ahmed</td>\n",
       "      <td>59</td>\n",
       "      <td>NaN</td>\n",
       "      <td>80</td>\n",
       "      <td>91</td>\n",
       "    </tr>\n",
       "    <tr>\n",
       "      <th>std-3</th>\n",
       "      <td>Ali</td>\n",
       "      <td>40</td>\n",
       "      <td>60.0</td>\n",
       "      <td>70</td>\n",
       "      <td>90</td>\n",
       "    </tr>\n",
       "  </tbody>\n",
       "</table>\n",
       "</div>"
      ],
      "text/plain": [
       "        Name  Scince  Urdu  English  Sindhi\n",
       "std-2  Ahmed      59   NaN       80      91\n",
       "std-3    Ali      40  60.0       70      90"
      ]
     },
     "execution_count": 9,
     "metadata": {},
     "output_type": "execute_result"
    }
   ],
   "source": [
    "df.drop('std-1', axis = 0)"
   ]
  },
  {
   "cell_type": "code",
   "execution_count": 10,
   "id": "59ddedf2-29a5-419f-896e-15eab89776a8",
   "metadata": {},
   "outputs": [
    {
     "data": {
      "text/html": [
       "<div>\n",
       "<style scoped>\n",
       "    .dataframe tbody tr th:only-of-type {\n",
       "        vertical-align: middle;\n",
       "    }\n",
       "\n",
       "    .dataframe tbody tr th {\n",
       "        vertical-align: top;\n",
       "    }\n",
       "\n",
       "    .dataframe thead th {\n",
       "        text-align: right;\n",
       "    }\n",
       "</style>\n",
       "<table border=\"1\" class=\"dataframe\">\n",
       "  <thead>\n",
       "    <tr style=\"text-align: right;\">\n",
       "      <th></th>\n",
       "      <th>Name</th>\n",
       "      <th>Scince</th>\n",
       "      <th>Urdu</th>\n",
       "      <th>English</th>\n",
       "      <th>Sindhi</th>\n",
       "    </tr>\n",
       "  </thead>\n",
       "  <tbody>\n",
       "    <tr>\n",
       "      <th>std-1</th>\n",
       "      <td>Yasir</td>\n",
       "      <td>40</td>\n",
       "      <td>60.0</td>\n",
       "      <td>70</td>\n",
       "      <td>90</td>\n",
       "    </tr>\n",
       "    <tr>\n",
       "      <th>std-2</th>\n",
       "      <td>Ahmed</td>\n",
       "      <td>59</td>\n",
       "      <td>NaN</td>\n",
       "      <td>80</td>\n",
       "      <td>91</td>\n",
       "    </tr>\n",
       "    <tr>\n",
       "      <th>std-3</th>\n",
       "      <td>Ali</td>\n",
       "      <td>40</td>\n",
       "      <td>60.0</td>\n",
       "      <td>70</td>\n",
       "      <td>90</td>\n",
       "    </tr>\n",
       "  </tbody>\n",
       "</table>\n",
       "</div>"
      ],
      "text/plain": [
       "        Name  Scince  Urdu  English  Sindhi\n",
       "std-1  Yasir      40  60.0       70      90\n",
       "std-2  Ahmed      59   NaN       80      91\n",
       "std-3    Ali      40  60.0       70      90"
      ]
     },
     "execution_count": 10,
     "metadata": {},
     "output_type": "execute_result"
    }
   ],
   "source": [
    "df"
   ]
  },
  {
   "cell_type": "code",
   "execution_count": 11,
   "id": "5ce34c31-867c-4547-b628-11c12df5d4d5",
   "metadata": {},
   "outputs": [
    {
     "data": {
      "text/html": [
       "<div>\n",
       "<style scoped>\n",
       "    .dataframe tbody tr th:only-of-type {\n",
       "        vertical-align: middle;\n",
       "    }\n",
       "\n",
       "    .dataframe tbody tr th {\n",
       "        vertical-align: top;\n",
       "    }\n",
       "\n",
       "    .dataframe thead th {\n",
       "        text-align: right;\n",
       "    }\n",
       "</style>\n",
       "<table border=\"1\" class=\"dataframe\">\n",
       "  <thead>\n",
       "    <tr style=\"text-align: right;\">\n",
       "      <th></th>\n",
       "      <th>Name</th>\n",
       "      <th>Scince</th>\n",
       "      <th>English</th>\n",
       "      <th>Sindhi</th>\n",
       "    </tr>\n",
       "  </thead>\n",
       "  <tbody>\n",
       "    <tr>\n",
       "      <th>std-1</th>\n",
       "      <td>Yasir</td>\n",
       "      <td>40</td>\n",
       "      <td>70</td>\n",
       "      <td>90</td>\n",
       "    </tr>\n",
       "    <tr>\n",
       "      <th>std-2</th>\n",
       "      <td>Ahmed</td>\n",
       "      <td>59</td>\n",
       "      <td>80</td>\n",
       "      <td>91</td>\n",
       "    </tr>\n",
       "    <tr>\n",
       "      <th>std-3</th>\n",
       "      <td>Ali</td>\n",
       "      <td>40</td>\n",
       "      <td>70</td>\n",
       "      <td>90</td>\n",
       "    </tr>\n",
       "  </tbody>\n",
       "</table>\n",
       "</div>"
      ],
      "text/plain": [
       "        Name  Scince  English  Sindhi\n",
       "std-1  Yasir      40       70      90\n",
       "std-2  Ahmed      59       80      91\n",
       "std-3    Ali      40       70      90"
      ]
     },
     "execution_count": 11,
     "metadata": {},
     "output_type": "execute_result"
    }
   ],
   "source": [
    "df.dropna(axis=1)"
   ]
  },
  {
   "cell_type": "code",
   "execution_count": 12,
   "id": "56138a7a-46db-4f27-a901-e60e3cb0f2b8",
   "metadata": {},
   "outputs": [
    {
     "data": {
      "text/plain": [
       "Name        object\n",
       "Scince       int64\n",
       "Urdu       float64\n",
       "English      int64\n",
       "Sindhi       int64\n",
       "dtype: object"
      ]
     },
     "execution_count": 12,
     "metadata": {},
     "output_type": "execute_result"
    }
   ],
   "source": [
    "df.dtypes"
   ]
  },
  {
   "cell_type": "code",
   "execution_count": 13,
   "id": "5437e1ea-b984-4278-9650-5005279f9f8f",
   "metadata": {},
   "outputs": [
    {
     "data": {
      "text/html": [
       "<div>\n",
       "<style scoped>\n",
       "    .dataframe tbody tr th:only-of-type {\n",
       "        vertical-align: middle;\n",
       "    }\n",
       "\n",
       "    .dataframe tbody tr th {\n",
       "        vertical-align: top;\n",
       "    }\n",
       "\n",
       "    .dataframe thead th {\n",
       "        text-align: right;\n",
       "    }\n",
       "</style>\n",
       "<table border=\"1\" class=\"dataframe\">\n",
       "  <thead>\n",
       "    <tr style=\"text-align: right;\">\n",
       "      <th></th>\n",
       "      <th>Scince</th>\n",
       "      <th>Urdu</th>\n",
       "      <th>English</th>\n",
       "      <th>Sindhi</th>\n",
       "    </tr>\n",
       "  </thead>\n",
       "  <tbody>\n",
       "    <tr>\n",
       "      <th>count</th>\n",
       "      <td>3.000000</td>\n",
       "      <td>2.0</td>\n",
       "      <td>3.000000</td>\n",
       "      <td>3.000000</td>\n",
       "    </tr>\n",
       "    <tr>\n",
       "      <th>mean</th>\n",
       "      <td>46.333333</td>\n",
       "      <td>60.0</td>\n",
       "      <td>73.333333</td>\n",
       "      <td>90.333333</td>\n",
       "    </tr>\n",
       "    <tr>\n",
       "      <th>std</th>\n",
       "      <td>10.969655</td>\n",
       "      <td>0.0</td>\n",
       "      <td>5.773503</td>\n",
       "      <td>0.577350</td>\n",
       "    </tr>\n",
       "    <tr>\n",
       "      <th>min</th>\n",
       "      <td>40.000000</td>\n",
       "      <td>60.0</td>\n",
       "      <td>70.000000</td>\n",
       "      <td>90.000000</td>\n",
       "    </tr>\n",
       "    <tr>\n",
       "      <th>25%</th>\n",
       "      <td>40.000000</td>\n",
       "      <td>60.0</td>\n",
       "      <td>70.000000</td>\n",
       "      <td>90.000000</td>\n",
       "    </tr>\n",
       "    <tr>\n",
       "      <th>50%</th>\n",
       "      <td>40.000000</td>\n",
       "      <td>60.0</td>\n",
       "      <td>70.000000</td>\n",
       "      <td>90.000000</td>\n",
       "    </tr>\n",
       "    <tr>\n",
       "      <th>75%</th>\n",
       "      <td>49.500000</td>\n",
       "      <td>60.0</td>\n",
       "      <td>75.000000</td>\n",
       "      <td>90.500000</td>\n",
       "    </tr>\n",
       "    <tr>\n",
       "      <th>max</th>\n",
       "      <td>59.000000</td>\n",
       "      <td>60.0</td>\n",
       "      <td>80.000000</td>\n",
       "      <td>91.000000</td>\n",
       "    </tr>\n",
       "  </tbody>\n",
       "</table>\n",
       "</div>"
      ],
      "text/plain": [
       "          Scince  Urdu    English     Sindhi\n",
       "count   3.000000   2.0   3.000000   3.000000\n",
       "mean   46.333333  60.0  73.333333  90.333333\n",
       "std    10.969655   0.0   5.773503   0.577350\n",
       "min    40.000000  60.0  70.000000  90.000000\n",
       "25%    40.000000  60.0  70.000000  90.000000\n",
       "50%    40.000000  60.0  70.000000  90.000000\n",
       "75%    49.500000  60.0  75.000000  90.500000\n",
       "max    59.000000  60.0  80.000000  91.000000"
      ]
     },
     "execution_count": 13,
     "metadata": {},
     "output_type": "execute_result"
    }
   ],
   "source": [
    "df.describe()"
   ]
  },
  {
   "cell_type": "code",
   "execution_count": 14,
   "id": "f83fc564-4c46-4529-ac5e-8b008f152d74",
   "metadata": {},
   "outputs": [],
   "source": [
    "dataset = pd.read_csv('InvestmentDataset.csv')"
   ]
  },
  {
   "cell_type": "code",
   "execution_count": 15,
   "id": "cc8b1a8e-48c5-4fac-ab5c-98e156c6f492",
   "metadata": {},
   "outputs": [
    {
     "data": {
      "text/html": [
       "<div>\n",
       "<style scoped>\n",
       "    .dataframe tbody tr th:only-of-type {\n",
       "        vertical-align: middle;\n",
       "    }\n",
       "\n",
       "    .dataframe tbody tr th {\n",
       "        vertical-align: top;\n",
       "    }\n",
       "\n",
       "    .dataframe thead th {\n",
       "        text-align: right;\n",
       "    }\n",
       "</style>\n",
       "<table border=\"1\" class=\"dataframe\">\n",
       "  <thead>\n",
       "    <tr style=\"text-align: right;\">\n",
       "      <th></th>\n",
       "      <th>Year</th>\n",
       "      <th>Profit Percentage</th>\n",
       "      <th>Additional Investment</th>\n",
       "      <th>Total Amount</th>\n",
       "    </tr>\n",
       "  </thead>\n",
       "  <tbody>\n",
       "    <tr>\n",
       "      <th>0</th>\n",
       "      <td>1</td>\n",
       "      <td>25%</td>\n",
       "      <td>0</td>\n",
       "      <td>6250.00</td>\n",
       "    </tr>\n",
       "    <tr>\n",
       "      <th>1</th>\n",
       "      <td>2</td>\n",
       "      <td>-30%</td>\n",
       "      <td>0</td>\n",
       "      <td>4375.00</td>\n",
       "    </tr>\n",
       "    <tr>\n",
       "      <th>2</th>\n",
       "      <td>3</td>\n",
       "      <td>22%</td>\n",
       "      <td>0</td>\n",
       "      <td>5337.50</td>\n",
       "    </tr>\n",
       "    <tr>\n",
       "      <th>3</th>\n",
       "      <td>4</td>\n",
       "      <td>28%</td>\n",
       "      <td>0</td>\n",
       "      <td>6832.00</td>\n",
       "    </tr>\n",
       "    <tr>\n",
       "      <th>4</th>\n",
       "      <td>5</td>\n",
       "      <td>25%</td>\n",
       "      <td>2000</td>\n",
       "      <td>10840.00</td>\n",
       "    </tr>\n",
       "    <tr>\n",
       "      <th>5</th>\n",
       "      <td>6</td>\n",
       "      <td>5%</td>\n",
       "      <td>0</td>\n",
       "      <td>11382.00</td>\n",
       "    </tr>\n",
       "    <tr>\n",
       "      <th>6</th>\n",
       "      <td>7</td>\n",
       "      <td>-25%</td>\n",
       "      <td>0</td>\n",
       "      <td>8536.50</td>\n",
       "    </tr>\n",
       "    <tr>\n",
       "      <th>7</th>\n",
       "      <td>8</td>\n",
       "      <td>30%</td>\n",
       "      <td>0</td>\n",
       "      <td>11097.45</td>\n",
       "    </tr>\n",
       "    <tr>\n",
       "      <th>8</th>\n",
       "      <td>9</td>\n",
       "      <td>-22%</td>\n",
       "      <td>0</td>\n",
       "      <td>8656.01</td>\n",
       "    </tr>\n",
       "    <tr>\n",
       "      <th>9</th>\n",
       "      <td>10</td>\n",
       "      <td>28%</td>\n",
       "      <td>0</td>\n",
       "      <td>11079.69</td>\n",
       "    </tr>\n",
       "  </tbody>\n",
       "</table>\n",
       "</div>"
      ],
      "text/plain": [
       "   Year Profit Percentage  Additional Investment  Total Amount\n",
       "0     1               25%                      0       6250.00\n",
       "1     2              -30%                      0       4375.00\n",
       "2     3               22%                      0       5337.50\n",
       "3     4               28%                      0       6832.00\n",
       "4     5               25%                   2000      10840.00\n",
       "5     6                5%                      0      11382.00\n",
       "6     7              -25%                      0       8536.50\n",
       "7     8               30%                      0      11097.45\n",
       "8     9              -22%                      0       8656.01\n",
       "9    10               28%                      0      11079.69"
      ]
     },
     "execution_count": 15,
     "metadata": {},
     "output_type": "execute_result"
    }
   ],
   "source": [
    "dataset"
   ]
  },
  {
   "cell_type": "code",
   "execution_count": 16,
   "id": "b38e1ea1-64a2-4b5f-949a-869479a69871",
   "metadata": {},
   "outputs": [
    {
     "data": {
      "text/plain": [
       "Year                       int64\n",
       "Profit Percentage         object\n",
       "Additional Investment      int64\n",
       "Total Amount             float64\n",
       "dtype: object"
      ]
     },
     "execution_count": 16,
     "metadata": {},
     "output_type": "execute_result"
    }
   ],
   "source": [
    "dataset.dtypes"
   ]
  },
  {
   "cell_type": "code",
   "execution_count": 17,
   "id": "08866775-9fab-4c44-a0c2-960cc4a2b56a",
   "metadata": {},
   "outputs": [],
   "source": [
    "dataset_cal = pd.read_csv('calories.csv')"
   ]
  },
  {
   "cell_type": "code",
   "execution_count": 18,
   "id": "130f77b7-7acd-48c2-a7b0-7079aeaf0a53",
   "metadata": {},
   "outputs": [
    {
     "data": {
      "text/html": [
       "<div>\n",
       "<style scoped>\n",
       "    .dataframe tbody tr th:only-of-type {\n",
       "        vertical-align: middle;\n",
       "    }\n",
       "\n",
       "    .dataframe tbody tr th {\n",
       "        vertical-align: top;\n",
       "    }\n",
       "\n",
       "    .dataframe thead th {\n",
       "        text-align: right;\n",
       "    }\n",
       "</style>\n",
       "<table border=\"1\" class=\"dataframe\">\n",
       "  <thead>\n",
       "    <tr style=\"text-align: right;\">\n",
       "      <th></th>\n",
       "      <th>Duration</th>\n",
       "      <th>Pulse</th>\n",
       "      <th>Maxpulse</th>\n",
       "      <th>Calories</th>\n",
       "    </tr>\n",
       "  </thead>\n",
       "  <tbody>\n",
       "    <tr>\n",
       "      <th>0</th>\n",
       "      <td>60.0</td>\n",
       "      <td>110</td>\n",
       "      <td>130</td>\n",
       "      <td>409.1</td>\n",
       "    </tr>\n",
       "    <tr>\n",
       "      <th>1</th>\n",
       "      <td>60.0</td>\n",
       "      <td>117</td>\n",
       "      <td>145</td>\n",
       "      <td>479.0</td>\n",
       "    </tr>\n",
       "    <tr>\n",
       "      <th>2</th>\n",
       "      <td>60.0</td>\n",
       "      <td>103</td>\n",
       "      <td>135</td>\n",
       "      <td>340.0</td>\n",
       "    </tr>\n",
       "    <tr>\n",
       "      <th>3</th>\n",
       "      <td>45.0</td>\n",
       "      <td>109</td>\n",
       "      <td>175</td>\n",
       "      <td>282.4</td>\n",
       "    </tr>\n",
       "    <tr>\n",
       "      <th>4</th>\n",
       "      <td>45.0</td>\n",
       "      <td>117</td>\n",
       "      <td>148</td>\n",
       "      <td>406.0</td>\n",
       "    </tr>\n",
       "    <tr>\n",
       "      <th>5</th>\n",
       "      <td>60.0</td>\n",
       "      <td>102</td>\n",
       "      <td>127</td>\n",
       "      <td>300.0</td>\n",
       "    </tr>\n",
       "    <tr>\n",
       "      <th>6</th>\n",
       "      <td>60.0</td>\n",
       "      <td>110</td>\n",
       "      <td>136</td>\n",
       "      <td>374.0</td>\n",
       "    </tr>\n",
       "    <tr>\n",
       "      <th>7</th>\n",
       "      <td>NaN</td>\n",
       "      <td>104</td>\n",
       "      <td>134</td>\n",
       "      <td>253.3</td>\n",
       "    </tr>\n",
       "    <tr>\n",
       "      <th>8</th>\n",
       "      <td>30.0</td>\n",
       "      <td>109</td>\n",
       "      <td>133</td>\n",
       "      <td>195.1</td>\n",
       "    </tr>\n",
       "    <tr>\n",
       "      <th>9</th>\n",
       "      <td>60.0</td>\n",
       "      <td>98</td>\n",
       "      <td>124</td>\n",
       "      <td>269.0</td>\n",
       "    </tr>\n",
       "  </tbody>\n",
       "</table>\n",
       "</div>"
      ],
      "text/plain": [
       "   Duration  Pulse  Maxpulse  Calories\n",
       "0      60.0    110       130     409.1\n",
       "1      60.0    117       145     479.0\n",
       "2      60.0    103       135     340.0\n",
       "3      45.0    109       175     282.4\n",
       "4      45.0    117       148     406.0\n",
       "5      60.0    102       127     300.0\n",
       "6      60.0    110       136     374.0\n",
       "7       NaN    104       134     253.3\n",
       "8      30.0    109       133     195.1\n",
       "9      60.0     98       124     269.0"
      ]
     },
     "execution_count": 18,
     "metadata": {},
     "output_type": "execute_result"
    }
   ],
   "source": [
    "dataset_cal.head(10)\n",
    "# dataset_cal.tail(10)"
   ]
  },
  {
   "cell_type": "code",
   "execution_count": 19,
   "id": "08d8f6f1-bb4c-4b7c-bf61-5b0aff5b6df8",
   "metadata": {},
   "outputs": [
    {
     "data": {
      "text/html": [
       "<div>\n",
       "<style scoped>\n",
       "    .dataframe tbody tr th:only-of-type {\n",
       "        vertical-align: middle;\n",
       "    }\n",
       "\n",
       "    .dataframe tbody tr th {\n",
       "        vertical-align: top;\n",
       "    }\n",
       "\n",
       "    .dataframe thead th {\n",
       "        text-align: right;\n",
       "    }\n",
       "</style>\n",
       "<table border=\"1\" class=\"dataframe\">\n",
       "  <thead>\n",
       "    <tr style=\"text-align: right;\">\n",
       "      <th></th>\n",
       "      <th>Duration</th>\n",
       "      <th>Pulse</th>\n",
       "      <th>Maxpulse</th>\n",
       "      <th>Calories</th>\n",
       "    </tr>\n",
       "  </thead>\n",
       "  <tbody>\n",
       "    <tr>\n",
       "      <th>0</th>\n",
       "      <td>60.0</td>\n",
       "      <td>110</td>\n",
       "      <td>130</td>\n",
       "      <td>409.1</td>\n",
       "    </tr>\n",
       "    <tr>\n",
       "      <th>1</th>\n",
       "      <td>60.0</td>\n",
       "      <td>117</td>\n",
       "      <td>145</td>\n",
       "      <td>479.0</td>\n",
       "    </tr>\n",
       "    <tr>\n",
       "      <th>2</th>\n",
       "      <td>60.0</td>\n",
       "      <td>103</td>\n",
       "      <td>135</td>\n",
       "      <td>340.0</td>\n",
       "    </tr>\n",
       "    <tr>\n",
       "      <th>3</th>\n",
       "      <td>45.0</td>\n",
       "      <td>109</td>\n",
       "      <td>175</td>\n",
       "      <td>282.4</td>\n",
       "    </tr>\n",
       "    <tr>\n",
       "      <th>4</th>\n",
       "      <td>45.0</td>\n",
       "      <td>117</td>\n",
       "      <td>148</td>\n",
       "      <td>406.0</td>\n",
       "    </tr>\n",
       "    <tr>\n",
       "      <th>...</th>\n",
       "      <td>...</td>\n",
       "      <td>...</td>\n",
       "      <td>...</td>\n",
       "      <td>...</td>\n",
       "    </tr>\n",
       "    <tr>\n",
       "      <th>164</th>\n",
       "      <td>60.0</td>\n",
       "      <td>105</td>\n",
       "      <td>140</td>\n",
       "      <td>290.8</td>\n",
       "    </tr>\n",
       "    <tr>\n",
       "      <th>165</th>\n",
       "      <td>60.0</td>\n",
       "      <td>110</td>\n",
       "      <td>145</td>\n",
       "      <td>300.0</td>\n",
       "    </tr>\n",
       "    <tr>\n",
       "      <th>166</th>\n",
       "      <td>60.0</td>\n",
       "      <td>115</td>\n",
       "      <td>145</td>\n",
       "      <td>310.2</td>\n",
       "    </tr>\n",
       "    <tr>\n",
       "      <th>167</th>\n",
       "      <td>75.0</td>\n",
       "      <td>120</td>\n",
       "      <td>150</td>\n",
       "      <td>320.4</td>\n",
       "    </tr>\n",
       "    <tr>\n",
       "      <th>168</th>\n",
       "      <td>75.0</td>\n",
       "      <td>125</td>\n",
       "      <td>150</td>\n",
       "      <td>330.4</td>\n",
       "    </tr>\n",
       "  </tbody>\n",
       "</table>\n",
       "<p>163 rows × 4 columns</p>\n",
       "</div>"
      ],
      "text/plain": [
       "     Duration  Pulse  Maxpulse  Calories\n",
       "0        60.0    110       130     409.1\n",
       "1        60.0    117       145     479.0\n",
       "2        60.0    103       135     340.0\n",
       "3        45.0    109       175     282.4\n",
       "4        45.0    117       148     406.0\n",
       "..        ...    ...       ...       ...\n",
       "164      60.0    105       140     290.8\n",
       "165      60.0    110       145     300.0\n",
       "166      60.0    115       145     310.2\n",
       "167      75.0    120       150     320.4\n",
       "168      75.0    125       150     330.4\n",
       "\n",
       "[163 rows x 4 columns]"
      ]
     },
     "execution_count": 19,
     "metadata": {},
     "output_type": "execute_result"
    }
   ],
   "source": [
    "dataset_cal.dropna()"
   ]
  },
  {
   "cell_type": "code",
   "execution_count": 20,
   "id": "d80f57bc-6115-4b0b-a3ee-6a1eb1281db3",
   "metadata": {},
   "outputs": [
    {
     "data": {
      "text/html": [
       "<div>\n",
       "<style scoped>\n",
       "    .dataframe tbody tr th:only-of-type {\n",
       "        vertical-align: middle;\n",
       "    }\n",
       "\n",
       "    .dataframe tbody tr th {\n",
       "        vertical-align: top;\n",
       "    }\n",
       "\n",
       "    .dataframe thead th {\n",
       "        text-align: right;\n",
       "    }\n",
       "</style>\n",
       "<table border=\"1\" class=\"dataframe\">\n",
       "  <thead>\n",
       "    <tr style=\"text-align: right;\">\n",
       "      <th></th>\n",
       "      <th>Duration</th>\n",
       "      <th>Pulse</th>\n",
       "      <th>Maxpulse</th>\n",
       "      <th>Calories</th>\n",
       "    </tr>\n",
       "  </thead>\n",
       "  <tbody>\n",
       "    <tr>\n",
       "      <th>0</th>\n",
       "      <td>60.0</td>\n",
       "      <td>110</td>\n",
       "      <td>130</td>\n",
       "      <td>409.1</td>\n",
       "    </tr>\n",
       "    <tr>\n",
       "      <th>1</th>\n",
       "      <td>60.0</td>\n",
       "      <td>117</td>\n",
       "      <td>145</td>\n",
       "      <td>479.0</td>\n",
       "    </tr>\n",
       "    <tr>\n",
       "      <th>2</th>\n",
       "      <td>60.0</td>\n",
       "      <td>103</td>\n",
       "      <td>135</td>\n",
       "      <td>340.0</td>\n",
       "    </tr>\n",
       "    <tr>\n",
       "      <th>3</th>\n",
       "      <td>45.0</td>\n",
       "      <td>109</td>\n",
       "      <td>175</td>\n",
       "      <td>282.4</td>\n",
       "    </tr>\n",
       "    <tr>\n",
       "      <th>4</th>\n",
       "      <td>45.0</td>\n",
       "      <td>117</td>\n",
       "      <td>148</td>\n",
       "      <td>406.0</td>\n",
       "    </tr>\n",
       "    <tr>\n",
       "      <th>5</th>\n",
       "      <td>60.0</td>\n",
       "      <td>102</td>\n",
       "      <td>127</td>\n",
       "      <td>300.0</td>\n",
       "    </tr>\n",
       "    <tr>\n",
       "      <th>6</th>\n",
       "      <td>60.0</td>\n",
       "      <td>110</td>\n",
       "      <td>136</td>\n",
       "      <td>374.0</td>\n",
       "    </tr>\n",
       "    <tr>\n",
       "      <th>7</th>\n",
       "      <td>0.0</td>\n",
       "      <td>104</td>\n",
       "      <td>134</td>\n",
       "      <td>253.3</td>\n",
       "    </tr>\n",
       "    <tr>\n",
       "      <th>8</th>\n",
       "      <td>30.0</td>\n",
       "      <td>109</td>\n",
       "      <td>133</td>\n",
       "      <td>195.1</td>\n",
       "    </tr>\n",
       "    <tr>\n",
       "      <th>9</th>\n",
       "      <td>60.0</td>\n",
       "      <td>98</td>\n",
       "      <td>124</td>\n",
       "      <td>269.0</td>\n",
       "    </tr>\n",
       "  </tbody>\n",
       "</table>\n",
       "</div>"
      ],
      "text/plain": [
       "   Duration  Pulse  Maxpulse  Calories\n",
       "0      60.0    110       130     409.1\n",
       "1      60.0    117       145     479.0\n",
       "2      60.0    103       135     340.0\n",
       "3      45.0    109       175     282.4\n",
       "4      45.0    117       148     406.0\n",
       "5      60.0    102       127     300.0\n",
       "6      60.0    110       136     374.0\n",
       "7       0.0    104       134     253.3\n",
       "8      30.0    109       133     195.1\n",
       "9      60.0     98       124     269.0"
      ]
     },
     "execution_count": 20,
     "metadata": {},
     "output_type": "execute_result"
    }
   ],
   "source": [
    "dataset_cal.fillna(0).head(10)"
   ]
  },
  {
   "cell_type": "code",
   "execution_count": 21,
   "id": "d4d9e8dc-d2a5-47ea-a088-408fec3672d1",
   "metadata": {},
   "outputs": [
    {
     "data": {
      "text/plain": [
       "Duration     45.0\n",
       "Pulse        90.0\n",
       "Maxpulse    112.0\n",
       "Calories      NaN\n",
       "Name: 17, dtype: float64"
      ]
     },
     "execution_count": 21,
     "metadata": {},
     "output_type": "execute_result"
    }
   ],
   "source": [
    "dataset_cal.iloc[17]"
   ]
  },
  {
   "cell_type": "code",
   "execution_count": 22,
   "id": "b2db9bbc-216f-4a40-b974-2fe8019e4d69",
   "metadata": {},
   "outputs": [],
   "source": [
    "decr_cal = dataset_cal.describe()"
   ]
  },
  {
   "cell_type": "code",
   "execution_count": 23,
   "id": "ebc55030-4306-409f-a64d-1a8dd51dd23f",
   "metadata": {},
   "outputs": [
    {
     "data": {
      "text/html": [
       "<div>\n",
       "<style scoped>\n",
       "    .dataframe tbody tr th:only-of-type {\n",
       "        vertical-align: middle;\n",
       "    }\n",
       "\n",
       "    .dataframe tbody tr th {\n",
       "        vertical-align: top;\n",
       "    }\n",
       "\n",
       "    .dataframe thead th {\n",
       "        text-align: right;\n",
       "    }\n",
       "</style>\n",
       "<table border=\"1\" class=\"dataframe\">\n",
       "  <thead>\n",
       "    <tr style=\"text-align: right;\">\n",
       "      <th></th>\n",
       "      <th>Duration</th>\n",
       "      <th>Pulse</th>\n",
       "      <th>Maxpulse</th>\n",
       "      <th>Calories</th>\n",
       "    </tr>\n",
       "  </thead>\n",
       "  <tbody>\n",
       "    <tr>\n",
       "      <th>count</th>\n",
       "      <td>168.000000</td>\n",
       "      <td>169.000000</td>\n",
       "      <td>169.000000</td>\n",
       "      <td>164.000000</td>\n",
       "    </tr>\n",
       "    <tr>\n",
       "      <th>mean</th>\n",
       "      <td>63.958333</td>\n",
       "      <td>107.461538</td>\n",
       "      <td>134.047337</td>\n",
       "      <td>375.790244</td>\n",
       "    </tr>\n",
       "    <tr>\n",
       "      <th>std</th>\n",
       "      <td>42.401185</td>\n",
       "      <td>14.510259</td>\n",
       "      <td>16.450434</td>\n",
       "      <td>266.379919</td>\n",
       "    </tr>\n",
       "    <tr>\n",
       "      <th>min</th>\n",
       "      <td>15.000000</td>\n",
       "      <td>80.000000</td>\n",
       "      <td>100.000000</td>\n",
       "      <td>50.300000</td>\n",
       "    </tr>\n",
       "    <tr>\n",
       "      <th>25%</th>\n",
       "      <td>45.000000</td>\n",
       "      <td>100.000000</td>\n",
       "      <td>124.000000</td>\n",
       "      <td>250.925000</td>\n",
       "    </tr>\n",
       "    <tr>\n",
       "      <th>50%</th>\n",
       "      <td>60.000000</td>\n",
       "      <td>105.000000</td>\n",
       "      <td>131.000000</td>\n",
       "      <td>318.600000</td>\n",
       "    </tr>\n",
       "    <tr>\n",
       "      <th>75%</th>\n",
       "      <td>60.000000</td>\n",
       "      <td>111.000000</td>\n",
       "      <td>141.000000</td>\n",
       "      <td>387.600000</td>\n",
       "    </tr>\n",
       "    <tr>\n",
       "      <th>max</th>\n",
       "      <td>300.000000</td>\n",
       "      <td>159.000000</td>\n",
       "      <td>184.000000</td>\n",
       "      <td>1860.400000</td>\n",
       "    </tr>\n",
       "  </tbody>\n",
       "</table>\n",
       "</div>"
      ],
      "text/plain": [
       "         Duration       Pulse    Maxpulse     Calories\n",
       "count  168.000000  169.000000  169.000000   164.000000\n",
       "mean    63.958333  107.461538  134.047337   375.790244\n",
       "std     42.401185   14.510259   16.450434   266.379919\n",
       "min     15.000000   80.000000  100.000000    50.300000\n",
       "25%     45.000000  100.000000  124.000000   250.925000\n",
       "50%     60.000000  105.000000  131.000000   318.600000\n",
       "75%     60.000000  111.000000  141.000000   387.600000\n",
       "max    300.000000  159.000000  184.000000  1860.400000"
      ]
     },
     "execution_count": 23,
     "metadata": {},
     "output_type": "execute_result"
    }
   ],
   "source": [
    "decr_cal"
   ]
  },
  {
   "cell_type": "code",
   "execution_count": 24,
   "id": "83cc84c0-f893-4c29-8e20-cdad221c1b78",
   "metadata": {},
   "outputs": [
    {
     "name": "stderr",
     "output_type": "stream",
     "text": [
      "C:\\Users\\memon\\AppData\\Local\\Temp\\ipykernel_22548\\1997185175.py:2: FutureWarning: A value is trying to be set on a copy of a DataFrame or Series through chained assignment using an inplace method.\n",
      "The behavior will change in pandas 3.0. This inplace method will never work because the intermediate object on which we are setting values always behaves as a copy.\n",
      "\n",
      "For example, when doing 'df[col].method(value, inplace=True)', try using 'df.method({col: value}, inplace=True)' or df[col] = df[col].method(value) instead, to perform the operation inplace on the original object.\n",
      "\n",
      "\n",
      "  dataset_cal[column].fillna(dataset_cal[column].mean(),inplace= True)\n"
     ]
    }
   ],
   "source": [
    "for column in dataset_cal.columns:\n",
    "    dataset_cal[column].fillna(dataset_cal[column].mean(),inplace= True)"
   ]
  },
  {
   "cell_type": "code",
   "execution_count": 25,
   "id": "ce936ef9-b21a-44fb-84de-9b164951d1e9",
   "metadata": {},
   "outputs": [
    {
     "data": {
      "text/plain": [
       "Duration     45.000000\n",
       "Pulse        90.000000\n",
       "Maxpulse    112.000000\n",
       "Calories    375.790244\n",
       "Name: 17, dtype: float64"
      ]
     },
     "execution_count": 25,
     "metadata": {},
     "output_type": "execute_result"
    }
   ],
   "source": [
    "dataset_cal.iloc[17]"
   ]
  },
  {
   "cell_type": "code",
   "execution_count": 26,
   "id": "2fa8d45e-aadf-4bc6-a058-2829f018d9d8",
   "metadata": {},
   "outputs": [
    {
     "data": {
      "text/plain": [
       "Duration    float64\n",
       "Pulse         int64\n",
       "Maxpulse      int64\n",
       "Calories    float64\n",
       "dtype: object"
      ]
     },
     "execution_count": 26,
     "metadata": {},
     "output_type": "execute_result"
    }
   ],
   "source": [
    "dataset_cal.dtypes"
   ]
  },
  {
   "cell_type": "code",
   "execution_count": 27,
   "id": "67812627-d1fb-4834-bb02-b1d32e5a128e",
   "metadata": {},
   "outputs": [
    {
     "data": {
      "text/plain": [
       "Duration     object\n",
       "Pulse        object\n",
       "Maxpulse      int64\n",
       "Calories    float64\n",
       "dtype: object"
      ]
     },
     "execution_count": 27,
     "metadata": {},
     "output_type": "execute_result"
    }
   ],
   "source": [
    "dataset_cal.astype({\"Duration\": \"str\",'Pulse':'str'}).dtypes"
   ]
  },
  {
   "cell_type": "code",
   "execution_count": 47,
   "id": "b6c4702a-2303-4594-ae01-346c8dc287f0",
   "metadata": {},
   "outputs": [],
   "source": [
    "student = [{\"Name\":\"Ahmed\",\"Fname\":\"Ali\",\"FinalMarks\":80,\"Grade\":\"A\"},\n",
    "           {\"Name\":\"Ahmed\",\"Fname\":\"Ali\",\"FinalMarks\":80,\"Grade\":\"B\"},\n",
    "           {\"Name\":\"Ahmed\",\"Fname\":\"Ali\",\"FinalMarks\":\"Fail\",\"Grade\":\"A\"},\n",
    "           {\"Name\":\"Ahmed\",\"Fname\":\"Ali\",\"FinalMarks\":80,\"Grade\":\"B\"},\n",
    "           {\"Name\":\"Ahmed\",\"Fname\":\"Ali\",\"FinalMarks\":80,\"Grade\":\"A\"}]"
   ]
  },
  {
   "cell_type": "code",
   "execution_count": 48,
   "id": "1af0a854-acfe-4403-8e7d-620e61f617ec",
   "metadata": {},
   "outputs": [],
   "source": [
    "std_df = pd.DataFrame(student)"
   ]
  },
  {
   "cell_type": "code",
   "execution_count": 49,
   "id": "7f5762dc-da63-48cb-b0bd-76571365d156",
   "metadata": {},
   "outputs": [],
   "source": [
    "# std_df['FinalMarks'].astype(float)\n",
    "std_df.FinalMarks = pd.to_numeric(std_df['FinalMarks'],errors= 'coerce')"
   ]
  },
  {
   "cell_type": "code",
   "execution_count": 50,
   "id": "864420ed-9b31-4b9f-a56c-923565eaa781",
   "metadata": {},
   "outputs": [
    {
     "data": {
      "text/plain": [
       "Name           object\n",
       "Fname          object\n",
       "FinalMarks    float64\n",
       "Grade          object\n",
       "dtype: object"
      ]
     },
     "execution_count": 50,
     "metadata": {},
     "output_type": "execute_result"
    }
   ],
   "source": [
    "std_df.dtypes"
   ]
  },
  {
   "cell_type": "code",
   "execution_count": 51,
   "id": "c1287fc0-a363-4fa5-b9e5-a5230792bf2b",
   "metadata": {},
   "outputs": [
    {
     "data": {
      "text/plain": [
       "Name          0\n",
       "Fname         0\n",
       "FinalMarks    1\n",
       "Grade         0\n",
       "dtype: int64"
      ]
     },
     "execution_count": 51,
     "metadata": {},
     "output_type": "execute_result"
    }
   ],
   "source": [
    "std_df.isnull().sum()"
   ]
  },
  {
   "cell_type": "code",
   "execution_count": 52,
   "id": "f534637f-00a2-4ecc-8dde-255e79ddfbac",
   "metadata": {},
   "outputs": [],
   "source": [
    "std_df.dropna()\n",
    "std_df.fillna(0, inplace=True)"
   ]
  },
  {
   "cell_type": "code",
   "execution_count": 53,
   "id": "d549a7a7-f6e4-444d-ac18-cb1ad27c85b1",
   "metadata": {},
   "outputs": [
    {
     "data": {
      "text/plain": [
       "0    80\n",
       "1    80\n",
       "2     0\n",
       "3    80\n",
       "4    80\n",
       "Name: FinalMarks, dtype: int64"
      ]
     },
     "execution_count": 53,
     "metadata": {},
     "output_type": "execute_result"
    }
   ],
   "source": [
    "std_df.FinalMarks.astype(int)"
   ]
  },
  {
   "cell_type": "code",
   "execution_count": 54,
   "id": "111066cb-92f4-4fc3-ac1d-68c0f700242e",
   "metadata": {},
   "outputs": [
    {
     "data": {
      "text/plain": [
       "Name          Ahmed\n",
       "Fname           Ali\n",
       "FinalMarks     80.0\n",
       "Grade             A\n",
       "Name: 4, dtype: object"
      ]
     },
     "execution_count": 54,
     "metadata": {},
     "output_type": "execute_result"
    }
   ],
   "source": [
    "std_df.iloc[-1,:]"
   ]
  },
  {
   "cell_type": "code",
   "execution_count": 57,
   "id": "c630e791-471b-4db3-a438-de7e9fbe2fb0",
   "metadata": {},
   "outputs": [
    {
     "data": {
      "text/html": [
       "<div>\n",
       "<style scoped>\n",
       "    .dataframe tbody tr th:only-of-type {\n",
       "        vertical-align: middle;\n",
       "    }\n",
       "\n",
       "    .dataframe tbody tr th {\n",
       "        vertical-align: top;\n",
       "    }\n",
       "\n",
       "    .dataframe thead th {\n",
       "        text-align: right;\n",
       "    }\n",
       "</style>\n",
       "<table border=\"1\" class=\"dataframe\">\n",
       "  <thead>\n",
       "    <tr style=\"text-align: right;\">\n",
       "      <th></th>\n",
       "      <th>Name</th>\n",
       "      <th>Fname</th>\n",
       "      <th>FinalMarks</th>\n",
       "      <th>Grade</th>\n",
       "    </tr>\n",
       "  </thead>\n",
       "  <tbody>\n",
       "    <tr>\n",
       "      <th>1</th>\n",
       "      <td>Ahmed</td>\n",
       "      <td>Ali</td>\n",
       "      <td>80.0</td>\n",
       "      <td>B</td>\n",
       "    </tr>\n",
       "    <tr>\n",
       "      <th>3</th>\n",
       "      <td>Ahmed</td>\n",
       "      <td>Ali</td>\n",
       "      <td>80.0</td>\n",
       "      <td>B</td>\n",
       "    </tr>\n",
       "  </tbody>\n",
       "</table>\n",
       "</div>"
      ],
      "text/plain": [
       "    Name Fname  FinalMarks Grade\n",
       "1  Ahmed   Ali        80.0     B\n",
       "3  Ahmed   Ali        80.0     B"
      ]
     },
     "execution_count": 57,
     "metadata": {},
     "output_type": "execute_result"
    }
   ],
   "source": [
    "std_df[std_df.Grade != 'A']"
   ]
  },
  {
   "cell_type": "code",
   "execution_count": 58,
   "id": "027e2110-05ee-4d48-b4e0-7d0a758dfbd8",
   "metadata": {},
   "outputs": [
    {
     "data": {
      "text/html": [
       "<div>\n",
       "<style scoped>\n",
       "    .dataframe tbody tr th:only-of-type {\n",
       "        vertical-align: middle;\n",
       "    }\n",
       "\n",
       "    .dataframe tbody tr th {\n",
       "        vertical-align: top;\n",
       "    }\n",
       "\n",
       "    .dataframe thead th {\n",
       "        text-align: right;\n",
       "    }\n",
       "</style>\n",
       "<table border=\"1\" class=\"dataframe\">\n",
       "  <thead>\n",
       "    <tr style=\"text-align: right;\">\n",
       "      <th></th>\n",
       "      <th>Name</th>\n",
       "      <th>Fname</th>\n",
       "    </tr>\n",
       "  </thead>\n",
       "  <tbody>\n",
       "    <tr>\n",
       "      <th>0</th>\n",
       "      <td>Ahmed</td>\n",
       "      <td>Ali</td>\n",
       "    </tr>\n",
       "    <tr>\n",
       "      <th>1</th>\n",
       "      <td>Ahmed</td>\n",
       "      <td>Ali</td>\n",
       "    </tr>\n",
       "    <tr>\n",
       "      <th>2</th>\n",
       "      <td>Ahmed</td>\n",
       "      <td>Ali</td>\n",
       "    </tr>\n",
       "    <tr>\n",
       "      <th>3</th>\n",
       "      <td>Ahmed</td>\n",
       "      <td>Ali</td>\n",
       "    </tr>\n",
       "    <tr>\n",
       "      <th>4</th>\n",
       "      <td>Ahmed</td>\n",
       "      <td>Ali</td>\n",
       "    </tr>\n",
       "  </tbody>\n",
       "</table>\n",
       "</div>"
      ],
      "text/plain": [
       "    Name Fname\n",
       "0  Ahmed   Ali\n",
       "1  Ahmed   Ali\n",
       "2  Ahmed   Ali\n",
       "3  Ahmed   Ali\n",
       "4  Ahmed   Ali"
      ]
     },
     "execution_count": 58,
     "metadata": {},
     "output_type": "execute_result"
    }
   ],
   "source": [
    "std_df[['Name','Fname']]"
   ]
  },
  {
   "cell_type": "code",
   "execution_count": 62,
   "id": "fb49e899-3bfc-41d7-bcd5-4ae953e13908",
   "metadata": {},
   "outputs": [
    {
     "data": {
      "text/plain": [
       "1    Ahmed\n",
       "2    Ahmed\n",
       "4    Ahmed\n",
       "Name: Name, dtype: object"
      ]
     },
     "execution_count": 62,
     "metadata": {},
     "output_type": "execute_result"
    }
   ],
   "source": [
    "Name = std_df['Name']\n",
    "Name[[1,2,4]]"
   ]
  },
  {
   "cell_type": "code",
   "execution_count": 63,
   "id": "5483b919-aa07-4740-ae49-9933fafced4c",
   "metadata": {},
   "outputs": [
    {
     "data": {
      "text/html": [
       "<div>\n",
       "<style scoped>\n",
       "    .dataframe tbody tr th:only-of-type {\n",
       "        vertical-align: middle;\n",
       "    }\n",
       "\n",
       "    .dataframe tbody tr th {\n",
       "        vertical-align: top;\n",
       "    }\n",
       "\n",
       "    .dataframe thead th {\n",
       "        text-align: right;\n",
       "    }\n",
       "</style>\n",
       "<table border=\"1\" class=\"dataframe\">\n",
       "  <thead>\n",
       "    <tr style=\"text-align: right;\">\n",
       "      <th></th>\n",
       "      <th>Name</th>\n",
       "      <th>Fname</th>\n",
       "      <th>FinalMarks</th>\n",
       "      <th>Grade</th>\n",
       "    </tr>\n",
       "  </thead>\n",
       "  <tbody>\n",
       "    <tr>\n",
       "      <th>0</th>\n",
       "      <td>Ahmed</td>\n",
       "      <td>Ali</td>\n",
       "      <td>80.0</td>\n",
       "      <td>A</td>\n",
       "    </tr>\n",
       "    <tr>\n",
       "      <th>1</th>\n",
       "      <td>Ahmed</td>\n",
       "      <td>Ali</td>\n",
       "      <td>80.0</td>\n",
       "      <td>B</td>\n",
       "    </tr>\n",
       "    <tr>\n",
       "      <th>2</th>\n",
       "      <td>Ahmed</td>\n",
       "      <td>Ali</td>\n",
       "      <td>0.0</td>\n",
       "      <td>A</td>\n",
       "    </tr>\n",
       "    <tr>\n",
       "      <th>3</th>\n",
       "      <td>Ahmed</td>\n",
       "      <td>Ali</td>\n",
       "      <td>80.0</td>\n",
       "      <td>B</td>\n",
       "    </tr>\n",
       "    <tr>\n",
       "      <th>4</th>\n",
       "      <td>Ahmed</td>\n",
       "      <td>Ali</td>\n",
       "      <td>80.0</td>\n",
       "      <td>A</td>\n",
       "    </tr>\n",
       "  </tbody>\n",
       "</table>\n",
       "</div>"
      ],
      "text/plain": [
       "    Name Fname  FinalMarks Grade\n",
       "0  Ahmed   Ali        80.0     A\n",
       "1  Ahmed   Ali        80.0     B\n",
       "2  Ahmed   Ali         0.0     A\n",
       "3  Ahmed   Ali        80.0     B\n",
       "4  Ahmed   Ali        80.0     A"
      ]
     },
     "execution_count": 63,
     "metadata": {},
     "output_type": "execute_result"
    }
   ],
   "source": [
    "std_df"
   ]
  },
  {
   "cell_type": "code",
   "execution_count": 72,
   "id": "3c4a157f-8428-46da-9e52-42cb8f24a0c4",
   "metadata": {},
   "outputs": [
    {
     "data": {
      "text/html": [
       "<div>\n",
       "<style scoped>\n",
       "    .dataframe tbody tr th:only-of-type {\n",
       "        vertical-align: middle;\n",
       "    }\n",
       "\n",
       "    .dataframe tbody tr th {\n",
       "        vertical-align: top;\n",
       "    }\n",
       "\n",
       "    .dataframe thead th {\n",
       "        text-align: right;\n",
       "    }\n",
       "</style>\n",
       "<table border=\"1\" class=\"dataframe\">\n",
       "  <thead>\n",
       "    <tr style=\"text-align: right;\">\n",
       "      <th></th>\n",
       "      <th>Name</th>\n",
       "      <th>Fname</th>\n",
       "    </tr>\n",
       "  </thead>\n",
       "  <tbody>\n",
       "    <tr>\n",
       "      <th>1</th>\n",
       "      <td>Ahmed</td>\n",
       "      <td>Ali</td>\n",
       "    </tr>\n",
       "    <tr>\n",
       "      <th>4</th>\n",
       "      <td>Ahmed</td>\n",
       "      <td>Ali</td>\n",
       "    </tr>\n",
       "  </tbody>\n",
       "</table>\n",
       "</div>"
      ],
      "text/plain": [
       "    Name Fname\n",
       "1  Ahmed   Ali\n",
       "4  Ahmed   Ali"
      ]
     },
     "execution_count": 72,
     "metadata": {},
     "output_type": "execute_result"
    }
   ],
   "source": [
    "std_df.loc[[1,4],['Name','Fname']]"
   ]
  },
  {
   "cell_type": "code",
   "execution_count": 73,
   "id": "525c8d38-a7fa-4ad6-9008-7af3c15f0a76",
   "metadata": {},
   "outputs": [
    {
     "data": {
      "text/html": [
       "<div>\n",
       "<style scoped>\n",
       "    .dataframe tbody tr th:only-of-type {\n",
       "        vertical-align: middle;\n",
       "    }\n",
       "\n",
       "    .dataframe tbody tr th {\n",
       "        vertical-align: top;\n",
       "    }\n",
       "\n",
       "    .dataframe thead th {\n",
       "        text-align: right;\n",
       "    }\n",
       "</style>\n",
       "<table border=\"1\" class=\"dataframe\">\n",
       "  <thead>\n",
       "    <tr style=\"text-align: right;\">\n",
       "      <th></th>\n",
       "      <th>Name</th>\n",
       "      <th>Fname</th>\n",
       "      <th>FinalMarks</th>\n",
       "      <th>Grade</th>\n",
       "    </tr>\n",
       "  </thead>\n",
       "  <tbody>\n",
       "    <tr>\n",
       "      <th>0</th>\n",
       "      <td>Ahmed</td>\n",
       "      <td>Ali</td>\n",
       "      <td>80.0</td>\n",
       "      <td>A</td>\n",
       "    </tr>\n",
       "    <tr>\n",
       "      <th>1</th>\n",
       "      <td>Ahmed</td>\n",
       "      <td>Ali</td>\n",
       "      <td>80.0</td>\n",
       "      <td>B</td>\n",
       "    </tr>\n",
       "    <tr>\n",
       "      <th>2</th>\n",
       "      <td>Ahmed</td>\n",
       "      <td>Ali</td>\n",
       "      <td>0.0</td>\n",
       "      <td>A</td>\n",
       "    </tr>\n",
       "    <tr>\n",
       "      <th>3</th>\n",
       "      <td>Ahmed</td>\n",
       "      <td>Ali</td>\n",
       "      <td>80.0</td>\n",
       "      <td>B</td>\n",
       "    </tr>\n",
       "    <tr>\n",
       "      <th>4</th>\n",
       "      <td>Ahmed</td>\n",
       "      <td>Ali</td>\n",
       "      <td>80.0</td>\n",
       "      <td>A</td>\n",
       "    </tr>\n",
       "  </tbody>\n",
       "</table>\n",
       "</div>"
      ],
      "text/plain": [
       "    Name Fname  FinalMarks Grade\n",
       "0  Ahmed   Ali        80.0     A\n",
       "1  Ahmed   Ali        80.0     B\n",
       "2  Ahmed   Ali         0.0     A\n",
       "3  Ahmed   Ali        80.0     B\n",
       "4  Ahmed   Ali        80.0     A"
      ]
     },
     "execution_count": 73,
     "metadata": {},
     "output_type": "execute_result"
    }
   ],
   "source": [
    "std_df.iloc[:,]"
   ]
  },
  {
   "cell_type": "code",
   "execution_count": 74,
   "id": "396f60c0-4464-4090-a183-5c5bd496f066",
   "metadata": {},
   "outputs": [
    {
     "data": {
      "text/plain": [
       "np.float64(64.0)"
      ]
     },
     "execution_count": 74,
     "metadata": {},
     "output_type": "execute_result"
    }
   ],
   "source": [
    "std_df.FinalMarks.mean()"
   ]
  },
  {
   "cell_type": "code",
   "execution_count": 76,
   "id": "f33cc894-dc3f-43e3-bd19-2a7cd3c67357",
   "metadata": {},
   "outputs": [
    {
     "data": {
      "text/html": [
       "<div>\n",
       "<style scoped>\n",
       "    .dataframe tbody tr th:only-of-type {\n",
       "        vertical-align: middle;\n",
       "    }\n",
       "\n",
       "    .dataframe tbody tr th {\n",
       "        vertical-align: top;\n",
       "    }\n",
       "\n",
       "    .dataframe thead th {\n",
       "        text-align: right;\n",
       "    }\n",
       "</style>\n",
       "<table border=\"1\" class=\"dataframe\">\n",
       "  <thead>\n",
       "    <tr style=\"text-align: right;\">\n",
       "      <th></th>\n",
       "      <th>FinalMarks</th>\n",
       "    </tr>\n",
       "  </thead>\n",
       "  <tbody>\n",
       "    <tr>\n",
       "      <th>count</th>\n",
       "      <td>5.000000</td>\n",
       "    </tr>\n",
       "    <tr>\n",
       "      <th>mean</th>\n",
       "      <td>64.000000</td>\n",
       "    </tr>\n",
       "    <tr>\n",
       "      <th>std</th>\n",
       "      <td>35.777088</td>\n",
       "    </tr>\n",
       "    <tr>\n",
       "      <th>min</th>\n",
       "      <td>0.000000</td>\n",
       "    </tr>\n",
       "    <tr>\n",
       "      <th>25%</th>\n",
       "      <td>80.000000</td>\n",
       "    </tr>\n",
       "    <tr>\n",
       "      <th>50%</th>\n",
       "      <td>80.000000</td>\n",
       "    </tr>\n",
       "    <tr>\n",
       "      <th>75%</th>\n",
       "      <td>80.000000</td>\n",
       "    </tr>\n",
       "    <tr>\n",
       "      <th>max</th>\n",
       "      <td>80.000000</td>\n",
       "    </tr>\n",
       "  </tbody>\n",
       "</table>\n",
       "</div>"
      ],
      "text/plain": [
       "       FinalMarks\n",
       "count    5.000000\n",
       "mean    64.000000\n",
       "std     35.777088\n",
       "min      0.000000\n",
       "25%     80.000000\n",
       "50%     80.000000\n",
       "75%     80.000000\n",
       "max     80.000000"
      ]
     },
     "execution_count": 76,
     "metadata": {},
     "output_type": "execute_result"
    }
   ],
   "source": [
    "std_df.describe()"
   ]
  },
  {
   "cell_type": "code",
   "execution_count": 78,
   "id": "6a543d29-e6c4-47fb-91c7-c554cf94657e",
   "metadata": {},
   "outputs": [
    {
     "data": {
      "text/plain": [
       "np.int64(3)"
      ]
     },
     "execution_count": 78,
     "metadata": {},
     "output_type": "execute_result"
    }
   ],
   "source": [
    "std_df.Grade.value_counts()['A']"
   ]
  },
  {
   "cell_type": "code",
   "execution_count": 80,
   "id": "532ce0b7-e891-4c37-a1ae-cd0d757f4d35",
   "metadata": {},
   "outputs": [
    {
     "data": {
      "text/plain": [
       "array(['A', 'B'], dtype=object)"
      ]
     },
     "execution_count": 80,
     "metadata": {},
     "output_type": "execute_result"
    }
   ],
   "source": [
    "std_df.Grade.unique()"
   ]
  },
  {
   "cell_type": "code",
   "execution_count": 109,
   "id": "ed9b7d86-7722-49cb-96f4-530af41e62f4",
   "metadata": {},
   "outputs": [],
   "source": [
    "student_data = pd.read_csv('students_five_classes.csv')"
   ]
  },
  {
   "cell_type": "code",
   "execution_count": 110,
   "id": "cc816182-fb42-4ba1-8c3d-1611ab368b52",
   "metadata": {},
   "outputs": [
    {
     "data": {
      "text/html": [
       "<div>\n",
       "<style scoped>\n",
       "    .dataframe tbody tr th:only-of-type {\n",
       "        vertical-align: middle;\n",
       "    }\n",
       "\n",
       "    .dataframe tbody tr th {\n",
       "        vertical-align: top;\n",
       "    }\n",
       "\n",
       "    .dataframe thead th {\n",
       "        text-align: right;\n",
       "    }\n",
       "</style>\n",
       "<table border=\"1\" class=\"dataframe\">\n",
       "  <thead>\n",
       "    <tr style=\"text-align: right;\">\n",
       "      <th></th>\n",
       "      <th>roll_no</th>\n",
       "      <th>name</th>\n",
       "      <th>exam1</th>\n",
       "      <th>exam2</th>\n",
       "      <th>final_exam</th>\n",
       "    </tr>\n",
       "  </thead>\n",
       "  <tbody>\n",
       "    <tr>\n",
       "      <th>0</th>\n",
       "      <td>SMIT/DSAI/001</td>\n",
       "      <td>David Iqbal</td>\n",
       "      <td>20</td>\n",
       "      <td>16</td>\n",
       "      <td>35</td>\n",
       "    </tr>\n",
       "    <tr>\n",
       "      <th>1</th>\n",
       "      <td>SMIT/DSAI/002</td>\n",
       "      <td>Ahmed Ahmed</td>\n",
       "      <td>13</td>\n",
       "      <td>7</td>\n",
       "      <td>40</td>\n",
       "    </tr>\n",
       "    <tr>\n",
       "      <th>2</th>\n",
       "      <td>SMIT/DSAI/003</td>\n",
       "      <td>John Zahid</td>\n",
       "      <td>13</td>\n",
       "      <td>24</td>\n",
       "      <td>47</td>\n",
       "    </tr>\n",
       "    <tr>\n",
       "      <th>3</th>\n",
       "      <td>SMIT/DSAI/004</td>\n",
       "      <td>David Brown</td>\n",
       "      <td>0</td>\n",
       "      <td>15</td>\n",
       "      <td>24</td>\n",
       "    </tr>\n",
       "    <tr>\n",
       "      <th>4</th>\n",
       "      <td>SMIT/DSAI/005</td>\n",
       "      <td>Fatima Khan</td>\n",
       "      <td>20</td>\n",
       "      <td>8</td>\n",
       "      <td>6</td>\n",
       "    </tr>\n",
       "  </tbody>\n",
       "</table>\n",
       "</div>"
      ],
      "text/plain": [
       "         roll_no         name  exam1  exam2  final_exam\n",
       "0  SMIT/DSAI/001  David Iqbal     20     16          35\n",
       "1  SMIT/DSAI/002  Ahmed Ahmed     13      7          40\n",
       "2  SMIT/DSAI/003   John Zahid     13     24          47\n",
       "3  SMIT/DSAI/004  David Brown      0     15          24\n",
       "4  SMIT/DSAI/005  Fatima Khan     20      8           6"
      ]
     },
     "execution_count": 110,
     "metadata": {},
     "output_type": "execute_result"
    }
   ],
   "source": [
    "student_data.head()"
   ]
  },
  {
   "cell_type": "code",
   "execution_count": 111,
   "id": "b57df10f-5b08-414c-bc33-817eaf38a5b8",
   "metadata": {},
   "outputs": [],
   "source": [
    "student_data['obtain_marks'] = student_data.iloc[:,2:].sum(axis = 1)"
   ]
  },
  {
   "cell_type": "code",
   "execution_count": 112,
   "id": "d0c75399-1917-4fee-a6af-7a64510e540b",
   "metadata": {},
   "outputs": [],
   "source": [
    "student_data['total_marks'] = 100"
   ]
  },
  {
   "cell_type": "code",
   "execution_count": 113,
   "id": "1ab6adc4-d673-47b3-9766-1883d0a0ddc5",
   "metadata": {},
   "outputs": [
    {
     "data": {
      "text/html": [
       "<div>\n",
       "<style scoped>\n",
       "    .dataframe tbody tr th:only-of-type {\n",
       "        vertical-align: middle;\n",
       "    }\n",
       "\n",
       "    .dataframe tbody tr th {\n",
       "        vertical-align: top;\n",
       "    }\n",
       "\n",
       "    .dataframe thead th {\n",
       "        text-align: right;\n",
       "    }\n",
       "</style>\n",
       "<table border=\"1\" class=\"dataframe\">\n",
       "  <thead>\n",
       "    <tr style=\"text-align: right;\">\n",
       "      <th></th>\n",
       "      <th>roll_no</th>\n",
       "      <th>name</th>\n",
       "      <th>exam1</th>\n",
       "      <th>exam2</th>\n",
       "      <th>final_exam</th>\n",
       "      <th>obtain_marks</th>\n",
       "      <th>total_marks</th>\n",
       "    </tr>\n",
       "  </thead>\n",
       "  <tbody>\n",
       "    <tr>\n",
       "      <th>0</th>\n",
       "      <td>SMIT/DSAI/001</td>\n",
       "      <td>David Iqbal</td>\n",
       "      <td>20</td>\n",
       "      <td>16</td>\n",
       "      <td>35</td>\n",
       "      <td>71</td>\n",
       "      <td>100</td>\n",
       "    </tr>\n",
       "    <tr>\n",
       "      <th>1</th>\n",
       "      <td>SMIT/DSAI/002</td>\n",
       "      <td>Ahmed Ahmed</td>\n",
       "      <td>13</td>\n",
       "      <td>7</td>\n",
       "      <td>40</td>\n",
       "      <td>60</td>\n",
       "      <td>100</td>\n",
       "    </tr>\n",
       "    <tr>\n",
       "      <th>2</th>\n",
       "      <td>SMIT/DSAI/003</td>\n",
       "      <td>John Zahid</td>\n",
       "      <td>13</td>\n",
       "      <td>24</td>\n",
       "      <td>47</td>\n",
       "      <td>84</td>\n",
       "      <td>100</td>\n",
       "    </tr>\n",
       "    <tr>\n",
       "      <th>3</th>\n",
       "      <td>SMIT/DSAI/004</td>\n",
       "      <td>David Brown</td>\n",
       "      <td>0</td>\n",
       "      <td>15</td>\n",
       "      <td>24</td>\n",
       "      <td>39</td>\n",
       "      <td>100</td>\n",
       "    </tr>\n",
       "    <tr>\n",
       "      <th>4</th>\n",
       "      <td>SMIT/DSAI/005</td>\n",
       "      <td>Fatima Khan</td>\n",
       "      <td>20</td>\n",
       "      <td>8</td>\n",
       "      <td>6</td>\n",
       "      <td>34</td>\n",
       "      <td>100</td>\n",
       "    </tr>\n",
       "    <tr>\n",
       "      <th>...</th>\n",
       "      <td>...</td>\n",
       "      <td>...</td>\n",
       "      <td>...</td>\n",
       "      <td>...</td>\n",
       "      <td>...</td>\n",
       "      <td>...</td>\n",
       "      <td>...</td>\n",
       "    </tr>\n",
       "    <tr>\n",
       "      <th>495</th>\n",
       "      <td>SMIT/MAW/096</td>\n",
       "      <td>Sara Zahid</td>\n",
       "      <td>8</td>\n",
       "      <td>10</td>\n",
       "      <td>45</td>\n",
       "      <td>63</td>\n",
       "      <td>100</td>\n",
       "    </tr>\n",
       "    <tr>\n",
       "      <th>496</th>\n",
       "      <td>SMIT/MAW/097</td>\n",
       "      <td>Ayesha Ali</td>\n",
       "      <td>14</td>\n",
       "      <td>3</td>\n",
       "      <td>31</td>\n",
       "      <td>48</td>\n",
       "      <td>100</td>\n",
       "    </tr>\n",
       "    <tr>\n",
       "      <th>497</th>\n",
       "      <td>SMIT/MAW/098</td>\n",
       "      <td>Michael Brown</td>\n",
       "      <td>2</td>\n",
       "      <td>20</td>\n",
       "      <td>50</td>\n",
       "      <td>72</td>\n",
       "      <td>100</td>\n",
       "    </tr>\n",
       "    <tr>\n",
       "      <th>498</th>\n",
       "      <td>SMIT/MAW/099</td>\n",
       "      <td>Sara Malik</td>\n",
       "      <td>24</td>\n",
       "      <td>6</td>\n",
       "      <td>16</td>\n",
       "      <td>46</td>\n",
       "      <td>100</td>\n",
       "    </tr>\n",
       "    <tr>\n",
       "      <th>499</th>\n",
       "      <td>SMIT/MAW/100</td>\n",
       "      <td>Noor Ali</td>\n",
       "      <td>9</td>\n",
       "      <td>11</td>\n",
       "      <td>44</td>\n",
       "      <td>64</td>\n",
       "      <td>100</td>\n",
       "    </tr>\n",
       "  </tbody>\n",
       "</table>\n",
       "<p>500 rows × 7 columns</p>\n",
       "</div>"
      ],
      "text/plain": [
       "           roll_no           name  exam1  exam2  final_exam  obtain_marks  \\\n",
       "0    SMIT/DSAI/001    David Iqbal     20     16          35            71   \n",
       "1    SMIT/DSAI/002    Ahmed Ahmed     13      7          40            60   \n",
       "2    SMIT/DSAI/003     John Zahid     13     24          47            84   \n",
       "3    SMIT/DSAI/004    David Brown      0     15          24            39   \n",
       "4    SMIT/DSAI/005    Fatima Khan     20      8           6            34   \n",
       "..             ...            ...    ...    ...         ...           ...   \n",
       "495   SMIT/MAW/096     Sara Zahid      8     10          45            63   \n",
       "496   SMIT/MAW/097     Ayesha Ali     14      3          31            48   \n",
       "497   SMIT/MAW/098  Michael Brown      2     20          50            72   \n",
       "498   SMIT/MAW/099     Sara Malik     24      6          16            46   \n",
       "499   SMIT/MAW/100       Noor Ali      9     11          44            64   \n",
       "\n",
       "     total_marks  \n",
       "0            100  \n",
       "1            100  \n",
       "2            100  \n",
       "3            100  \n",
       "4            100  \n",
       "..           ...  \n",
       "495          100  \n",
       "496          100  \n",
       "497          100  \n",
       "498          100  \n",
       "499          100  \n",
       "\n",
       "[500 rows x 7 columns]"
      ]
     },
     "execution_count": 113,
     "metadata": {},
     "output_type": "execute_result"
    }
   ],
   "source": [
    "student_data"
   ]
  },
  {
   "cell_type": "code",
   "execution_count": 114,
   "id": "6c1affb0-8c1e-4e39-b994-9c17bf5a84fd",
   "metadata": {},
   "outputs": [],
   "source": [
    "student_data['percentage'] = (student_data.obtain_marks / student_data.total_marks)*100"
   ]
  },
  {
   "cell_type": "code",
   "execution_count": 122,
   "id": "6a6cf491-d253-4db1-bd0c-d83fde484aa7",
   "metadata": {},
   "outputs": [],
   "source": [
    "student_data.grades = student_data.percentage.apply(grade)"
   ]
  },
  {
   "cell_type": "code",
   "execution_count": 138,
   "id": "3e1fcaa7-69c4-4bff-b14c-14b46fe3b165",
   "metadata": {},
   "outputs": [],
   "source": [
    "student_data['class'] = student_data['roll_no'].str.split('/').str[1]"
   ]
  },
  {
   "cell_type": "code",
   "execution_count": 118,
   "id": "71ffb835-b76a-4e25-8879-43f224f79846",
   "metadata": {},
   "outputs": [],
   "source": [
    "def grade(marks):\n",
    "    if marks>80:\n",
    "        return 'A'\n",
    "    elif marks>70:\n",
    "        return 'B'\n",
    "    elif marks>50:\n",
    "        return 'C'\n",
    "    else:\n",
    "        return 'F'"
   ]
  },
  {
   "cell_type": "code",
   "execution_count": 155,
   "id": "54e12b7e-edc3-4f9f-a520-eed2fee54dc5",
   "metadata": {},
   "outputs": [
    {
     "name": "stdout",
     "output_type": "stream",
     "text": [
      "class: DSAI\n",
      "__________\n",
      "exam1            13.35\n",
      "exam2            12.46\n",
      "final_exam       24.08\n",
      "obtain_marks     49.89\n",
      "total_marks     100.00\n",
      "percentage       49.89\n",
      "Name: mean, dtype: float64\n",
      "grades\n",
      "F    50\n",
      "C    38\n",
      "B     8\n",
      "A     4\n",
      "Name: count, dtype: int64\n",
      "**************************************************\n",
      "class: DM\n",
      "__________\n",
      "exam1            13.08\n",
      "exam2            13.95\n",
      "final_exam       24.83\n",
      "obtain_marks     51.86\n",
      "total_marks     100.00\n",
      "percentage       51.86\n",
      "Name: mean, dtype: float64\n",
      "grades\n",
      "F    46\n",
      "C    36\n",
      "B    13\n",
      "A     5\n",
      "Name: count, dtype: int64\n",
      "**************************************************\n",
      "class: UIUX\n",
      "__________\n",
      "exam1            12.57\n",
      "exam2            12.52\n",
      "final_exam       23.88\n",
      "obtain_marks     48.97\n",
      "total_marks     100.00\n",
      "percentage       48.97\n",
      "Name: mean, dtype: float64\n",
      "grades\n",
      "F    58\n",
      "C    28\n",
      "B    10\n",
      "A     4\n",
      "Name: count, dtype: int64\n",
      "**************************************************\n",
      "class: GD\n",
      "__________\n",
      "exam1            13.05\n",
      "exam2            13.46\n",
      "final_exam       23.66\n",
      "obtain_marks     50.17\n",
      "total_marks     100.00\n",
      "percentage       50.17\n",
      "Name: mean, dtype: float64\n",
      "grades\n",
      "F    50\n",
      "C    33\n",
      "B    14\n",
      "A     3\n",
      "Name: count, dtype: int64\n",
      "**************************************************\n",
      "class: MAW\n",
      "__________\n",
      "exam1            12.08\n",
      "exam2            13.56\n",
      "final_exam       23.01\n",
      "obtain_marks     48.65\n",
      "total_marks     100.00\n",
      "percentage       48.65\n",
      "Name: mean, dtype: float64\n",
      "grades\n",
      "F    60\n",
      "C    29\n",
      "B     9\n",
      "A     2\n",
      "Name: count, dtype: int64\n",
      "**************************************************\n"
     ]
    }
   ],
   "source": [
    "for cl in student_data['class'].unique():\n",
    "    print(f\"class: {cl}\")\n",
    "    print('_'*10)\n",
    "    std_cl = student_data[student_data['class'] == cl]\n",
    "    print(std_cl.describe().loc['mean'])\n",
    "    print(std_cl['grades'].value_counts())\n",
    "    print('*'*50)"
   ]
  },
  {
   "cell_type": "code",
   "execution_count": null,
   "id": "ba4f9b73-8523-4a87-9c5b-33d750e260b4",
   "metadata": {},
   "outputs": [],
   "source": []
  }
 ],
 "metadata": {
  "kernelspec": {
   "display_name": "Python 3 (ipykernel)",
   "language": "python",
   "name": "python3"
  },
  "language_info": {
   "codemirror_mode": {
    "name": "ipython",
    "version": 3
   },
   "file_extension": ".py",
   "mimetype": "text/x-python",
   "name": "python",
   "nbconvert_exporter": "python",
   "pygments_lexer": "ipython3",
   "version": "3.11.3"
  }
 },
 "nbformat": 4,
 "nbformat_minor": 5
}
